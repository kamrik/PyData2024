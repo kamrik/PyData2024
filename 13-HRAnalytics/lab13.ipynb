{
 "cells": [
  {
   "cell_type": "code",
   "execution_count": 1,
   "metadata": {},
   "outputs": [],
   "source": [
    "import pandas as pd\n",
    "import numpy as np\n",
    "import matplotlib.pyplot as plt\n",
    "import seaborn as sns\n",
    "from sklearn.linear_model import LogisticRegression\n",
    "from sklearn.tree import DecisionTreeClassifier\n",
    "from sklearn.model_selection import GridSearchCV\n",
    "import matplotlib.pyplot as plt\n",
    "import seaborn as sns\n"
   ]
  },
  {
   "cell_type": "markdown",
   "metadata": {},
   "source": [
    "### Import data"
   ]
  },
  {
   "cell_type": "markdown",
   "metadata": {},
   "source": [
    "#### A company which is active in Data Science wants to hire data scientists among people who successfully pass some courses which conduct by the company. \n",
    "\n",
    "#### Many people signup for their training. Company wants to know which of these candidates are really wants to work for the company after training. "
   ]
  },
  {
   "cell_type": "code",
   "execution_count": 2,
   "metadata": {},
   "outputs": [],
   "source": [
    "df = pd.read_csv('aug_train.csv')\n",
    "#drop the first and second columns\n",
    "df = df.drop(['enrollee_id', 'city'], axis=1)"
   ]
  },
  {
   "cell_type": "code",
   "execution_count": 3,
   "metadata": {},
   "outputs": [
    {
     "data": {
      "text/html": [
       "<div>\n",
       "<style scoped>\n",
       "    .dataframe tbody tr th:only-of-type {\n",
       "        vertical-align: middle;\n",
       "    }\n",
       "\n",
       "    .dataframe tbody tr th {\n",
       "        vertical-align: top;\n",
       "    }\n",
       "\n",
       "    .dataframe thead th {\n",
       "        text-align: right;\n",
       "    }\n",
       "</style>\n",
       "<table border=\"1\" class=\"dataframe\">\n",
       "  <thead>\n",
       "    <tr style=\"text-align: right;\">\n",
       "      <th></th>\n",
       "      <th>0</th>\n",
       "      <th>1</th>\n",
       "      <th>2</th>\n",
       "      <th>3</th>\n",
       "      <th>4</th>\n",
       "    </tr>\n",
       "  </thead>\n",
       "  <tbody>\n",
       "    <tr>\n",
       "      <th>city_development_index</th>\n",
       "      <td>0.92</td>\n",
       "      <td>0.776</td>\n",
       "      <td>0.624</td>\n",
       "      <td>0.789</td>\n",
       "      <td>0.767</td>\n",
       "    </tr>\n",
       "    <tr>\n",
       "      <th>gender</th>\n",
       "      <td>Male</td>\n",
       "      <td>Male</td>\n",
       "      <td>NaN</td>\n",
       "      <td>NaN</td>\n",
       "      <td>Male</td>\n",
       "    </tr>\n",
       "    <tr>\n",
       "      <th>relevent_experience</th>\n",
       "      <td>Has relevent experience</td>\n",
       "      <td>No relevent experience</td>\n",
       "      <td>No relevent experience</td>\n",
       "      <td>No relevent experience</td>\n",
       "      <td>Has relevent experience</td>\n",
       "    </tr>\n",
       "    <tr>\n",
       "      <th>enrolled_university</th>\n",
       "      <td>no_enrollment</td>\n",
       "      <td>no_enrollment</td>\n",
       "      <td>Full time course</td>\n",
       "      <td>NaN</td>\n",
       "      <td>no_enrollment</td>\n",
       "    </tr>\n",
       "    <tr>\n",
       "      <th>education_level</th>\n",
       "      <td>Graduate</td>\n",
       "      <td>Graduate</td>\n",
       "      <td>Graduate</td>\n",
       "      <td>Graduate</td>\n",
       "      <td>Masters</td>\n",
       "    </tr>\n",
       "    <tr>\n",
       "      <th>major_discipline</th>\n",
       "      <td>STEM</td>\n",
       "      <td>STEM</td>\n",
       "      <td>STEM</td>\n",
       "      <td>Business Degree</td>\n",
       "      <td>STEM</td>\n",
       "    </tr>\n",
       "    <tr>\n",
       "      <th>experience</th>\n",
       "      <td>&gt;20</td>\n",
       "      <td>15</td>\n",
       "      <td>5</td>\n",
       "      <td>&lt;1</td>\n",
       "      <td>&gt;20</td>\n",
       "    </tr>\n",
       "    <tr>\n",
       "      <th>company_size</th>\n",
       "      <td>NaN</td>\n",
       "      <td>50-99</td>\n",
       "      <td>NaN</td>\n",
       "      <td>NaN</td>\n",
       "      <td>50-99</td>\n",
       "    </tr>\n",
       "    <tr>\n",
       "      <th>company_type</th>\n",
       "      <td>NaN</td>\n",
       "      <td>Pvt Ltd</td>\n",
       "      <td>NaN</td>\n",
       "      <td>Pvt Ltd</td>\n",
       "      <td>Funded Startup</td>\n",
       "    </tr>\n",
       "    <tr>\n",
       "      <th>last_new_job</th>\n",
       "      <td>1</td>\n",
       "      <td>&gt;4</td>\n",
       "      <td>never</td>\n",
       "      <td>never</td>\n",
       "      <td>4</td>\n",
       "    </tr>\n",
       "    <tr>\n",
       "      <th>training_hours</th>\n",
       "      <td>36</td>\n",
       "      <td>47</td>\n",
       "      <td>83</td>\n",
       "      <td>52</td>\n",
       "      <td>8</td>\n",
       "    </tr>\n",
       "    <tr>\n",
       "      <th>target</th>\n",
       "      <td>1.0</td>\n",
       "      <td>0.0</td>\n",
       "      <td>0.0</td>\n",
       "      <td>1.0</td>\n",
       "      <td>0.0</td>\n",
       "    </tr>\n",
       "  </tbody>\n",
       "</table>\n",
       "</div>"
      ],
      "text/plain": [
       "                                              0                       1  \\\n",
       "city_development_index                     0.92                   0.776   \n",
       "gender                                     Male                    Male   \n",
       "relevent_experience     Has relevent experience  No relevent experience   \n",
       "enrolled_university               no_enrollment           no_enrollment   \n",
       "education_level                        Graduate                Graduate   \n",
       "major_discipline                           STEM                    STEM   \n",
       "experience                                  >20                      15   \n",
       "company_size                                NaN                   50-99   \n",
       "company_type                                NaN                 Pvt Ltd   \n",
       "last_new_job                                  1                      >4   \n",
       "training_hours                               36                      47   \n",
       "target                                      1.0                     0.0   \n",
       "\n",
       "                                             2                       3  \\\n",
       "city_development_index                   0.624                   0.789   \n",
       "gender                                     NaN                     NaN   \n",
       "relevent_experience     No relevent experience  No relevent experience   \n",
       "enrolled_university           Full time course                     NaN   \n",
       "education_level                       Graduate                Graduate   \n",
       "major_discipline                          STEM         Business Degree   \n",
       "experience                                   5                      <1   \n",
       "company_size                               NaN                     NaN   \n",
       "company_type                               NaN                 Pvt Ltd   \n",
       "last_new_job                             never                   never   \n",
       "training_hours                              83                      52   \n",
       "target                                     0.0                     1.0   \n",
       "\n",
       "                                              4  \n",
       "city_development_index                    0.767  \n",
       "gender                                     Male  \n",
       "relevent_experience     Has relevent experience  \n",
       "enrolled_university               no_enrollment  \n",
       "education_level                         Masters  \n",
       "major_discipline                           STEM  \n",
       "experience                                  >20  \n",
       "company_size                              50-99  \n",
       "company_type                     Funded Startup  \n",
       "last_new_job                                  4  \n",
       "training_hours                                8  \n",
       "target                                      0.0  "
      ]
     },
     "execution_count": 3,
     "metadata": {},
     "output_type": "execute_result"
    }
   ],
   "source": [
    "df.head().T\n"
   ]
  },
  {
   "cell_type": "markdown",
   "metadata": {},
   "source": [
    "#### Find the size of the dataframe"
   ]
  },
  {
   "cell_type": "code",
   "execution_count": 4,
   "metadata": {},
   "outputs": [],
   "source": [
    "#your code here"
   ]
  },
  {
   "cell_type": "markdown",
   "metadata": {},
   "source": [
    "#### Find the columns name and their types (numerical or categorical)"
   ]
  },
  {
   "cell_type": "code",
   "execution_count": 6,
   "metadata": {},
   "outputs": [],
   "source": [
    "#your code here"
   ]
  },
  {
   "cell_type": "markdown",
   "metadata": {},
   "source": [
    "#### Find the list of `numerical` columns and `categorical` columns\n",
    "\n",
    "- use DataFrame.select_dtypes() to select columns of a specific type\n",
    "- For numerical columns you can pass `include = ['int64', 'float64']` as argument and for categorical columns you can pass `include = ['object']` as argument"
   ]
  },
  {
   "cell_type": "code",
   "execution_count": 10,
   "metadata": {},
   "outputs": [
    {
     "data": {
      "text/plain": [
       "['city_development_index', 'training_hours', 'target']"
      ]
     },
     "execution_count": 10,
     "metadata": {},
     "output_type": "execute_result"
    }
   ],
   "source": [
    "num_cols = df.select_dtypes(include=['int64', 'float64']).columns.tolist()\n",
    "num_cols "
   ]
  },
  {
   "cell_type": "code",
   "execution_count": 11,
   "metadata": {},
   "outputs": [
    {
     "data": {
      "text/plain": [
       "['city_development_index', 'training_hours']"
      ]
     },
     "execution_count": 11,
     "metadata": {},
     "output_type": "execute_result"
    }
   ],
   "source": [
    "num_cols = num_cols[:-1]\n",
    "num_cols"
   ]
  },
  {
   "cell_type": "code",
   "execution_count": 12,
   "metadata": {},
   "outputs": [
    {
     "data": {
      "text/plain": [
       "['gender',\n",
       " 'relevent_experience',\n",
       " 'enrolled_university',\n",
       " 'education_level',\n",
       " 'major_discipline',\n",
       " 'experience',\n",
       " 'company_size',\n",
       " 'company_type',\n",
       " 'last_new_job']"
      ]
     },
     "execution_count": 12,
     "metadata": {},
     "output_type": "execute_result"
    }
   ],
   "source": [
    "cat_cols = df.select_dtypes(include=['object']).columns.tolist()\n",
    "cat_cols"
   ]
  },
  {
   "cell_type": "markdown",
   "metadata": {},
   "source": [
    "### Handling missing values"
   ]
  },
  {
   "cell_type": "markdown",
   "metadata": {},
   "source": [
    "#### Missing values in `numerical` columns are replaced by the `mean` of the respective column"
   ]
  },
  {
   "cell_type": "code",
   "execution_count": 13,
   "metadata": {},
   "outputs": [
    {
     "data": {
      "text/plain": [
       "['city_development_index', 'training_hours']"
      ]
     },
     "execution_count": 13,
     "metadata": {},
     "output_type": "execute_result"
    }
   ],
   "source": [
    "num_cols "
   ]
  },
  {
   "cell_type": "code",
   "execution_count": 14,
   "metadata": {},
   "outputs": [
    {
     "data": {
      "text/plain": [
       "city_development_index    0\n",
       "training_hours            0\n",
       "dtype: int64"
      ]
     },
     "execution_count": 14,
     "metadata": {},
     "output_type": "execute_result"
    }
   ],
   "source": [
    "replacement = {'city_development_index': df['city_development_index'].mean(), \n",
    "               'training_hours': df['training_hours'].mean()} \n",
    "\n",
    "df.fillna(replacement, inplace=True)\n",
    "df[num_cols].isnull().sum()"
   ]
  },
  {
   "cell_type": "markdown",
   "metadata": {},
   "source": [
    "#### Missing values in `categorical` columns are replaced by the `mode` of the respective column\n",
    "\n",
    "#### Note:  `mode` is the most frequency value of that column.."
   ]
  },
  {
   "cell_type": "code",
   "execution_count": 15,
   "metadata": {},
   "outputs": [],
   "source": [
    "#your code here"
   ]
  },
  {
   "cell_type": "markdown",
   "metadata": {},
   "source": [
    "## Exploratory Data Analysis (EDA) of numerical columns"
   ]
  },
  {
   "cell_type": "markdown",
   "metadata": {},
   "source": [
    "#### Scatter plot the Percent of Change Job vs city_development_index (groupby city_development_index)"
   ]
  },
  {
   "cell_type": "code",
   "execution_count": 19,
   "metadata": {},
   "outputs": [],
   "source": [
    "#you code here"
   ]
  },
  {
   "cell_type": "code",
   "execution_count": null,
   "metadata": {},
   "outputs": [
    {
     "data": {
      "text/plain": [
       "Text(0.5, 1.0, 'Bubble size represents the number of people \\n wanting to change job in each group (optional)')"
      ]
     },
     "execution_count": 20,
     "metadata": {},
     "output_type": "execute_result"
    },
    {
     "data": {
      "image/png": "[encoded data removed]",
      "text/plain": [
       "<Figure size 640x480 with 1 Axes>"
      ]
     },
     "metadata": {},
     "output_type": "display_data"
    }
   ],
   "source": []
  },
  {
   "cell_type": "markdown",
   "metadata": {},
   "source": [
    "#### Scatter plot the Percent of Change Job vs training_hours"
   ]
  },
  {
   "cell_type": "code",
   "execution_count": null,
   "metadata": {},
   "outputs": [],
   "source": [
    "#your code here"
   ]
  },
  {
   "cell_type": "markdown",
   "metadata": {},
   "source": [
    "#### Do you see any correlation between numerical columns and Percent of Change Job?"
   ]
  },
  {
   "cell_type": "markdown",
   "metadata": {},
   "source": [
    "## EDA of categorical columns"
   ]
  },
  {
   "cell_type": "code",
   "execution_count": 22,
   "metadata": {},
   "outputs": [
    {
     "data": {
      "image/png": "[encoded data removed]",
      "text/plain": [
       "<Figure size 1500x3000 with 9 Axes>"
      ]
     },
     "metadata": {},
     "output_type": "display_data"
    }
   ],
   "source": [
    "plt.figure(figsize=(15,30))\n",
    "for i in range(len(cat_cols)):\n",
    "    plt.subplot(5,2,i+1)\n",
    "    sns.countplot(data=df, x=cat_cols[i],hue=df['target'])\n",
    "plt.tight_layout()\n",
    "plt.show()"
   ]
  },
  {
   "cell_type": "markdown",
   "metadata": {},
   "source": [
    "#### Plot percent of people changing job based on categorical columns"
   ]
  },
  {
   "cell_type": "code",
   "execution_count": 23,
   "metadata": {},
   "outputs": [],
   "source": [
    "#your code here"
   ]
  },
  {
   "cell_type": "markdown",
   "metadata": {},
   "source": [
    "#### Can you find any interesting insight from the plots?"
   ]
  },
  {
   "cell_type": "markdown",
   "metadata": {},
   "source": [
    "## Feature Engineering/ Transformation"
   ]
  },
  {
   "cell_type": "code",
   "execution_count": 25,
   "metadata": {},
   "outputs": [
    {
     "data": {
      "text/plain": [
       "['gender',\n",
       " 'relevent_experience',\n",
       " 'enrolled_university',\n",
       " 'education_level',\n",
       " 'major_discipline',\n",
       " 'experience',\n",
       " 'company_size',\n",
       " 'company_type',\n",
       " 'last_new_job']"
      ]
     },
     "execution_count": 25,
     "metadata": {},
     "output_type": "execute_result"
    }
   ],
   "source": [
    "cat_cols = df.select_dtypes(include=['object']).columns.tolist()\n",
    "cat_cols"
   ]
  },
  {
   "cell_type": "markdown",
   "metadata": {},
   "source": [
    "### Seperate `categorical` columns into `oridinal` and `one-hot` columns "
   ]
  },
  {
   "cell_type": "markdown",
   "metadata": {},
   "source": [
    "To determine whether the `categorical` data from the plots are `ordinal` or should be `one-hot` encoded, let's define the terms briefly:\n",
    "\n",
    "1. **Ordinal:** Categorical data that has a meaningful order or ranking. For example, \"Education Level\" (e.g., Primary School < High School < Graduate < Masters < PhD).\n",
    "\n",
    "2. **One-Hot Encoding:** Categorical data that has no inherent order. For example, \"Gender\" (e.g., Male, Female, Other)."
   ]
  },
  {
   "cell_type": "markdown",
   "metadata": {},
   "source": [
    "### Analysis of the Categorical features\n",
    "\n",
    "#### `Gender`\n",
    "- **Categories**: Male, Female, Other\n",
    "- **Encoding**: One-hot encoding (no meaningful order).\n",
    "\n",
    "#### `Relevant Experience`\n",
    "- **Categories**: Has relevant experience, No relevant experience\n",
    "- **Encoding**: Ordinal (implies a progression).\n",
    "\n",
    "#### `Enrollment in University`\n",
    "- **Categories**: No enrollment, Full-time course, Part-time course\n",
    "- **Encoding**: Ordinal (implies a progression of engagement).\n",
    "\n",
    "#### `Education Level`\n",
    "- **Categories**: Primary School, High School, Graduate, Masters, PhD\n",
    "- **Encoding**: Ordinal (clear order based on education progression).\n",
    "\n",
    "#### `Major Discipline`\n",
    "- **Categories**: STEM, Business Degree, Arts, Humanities, No Major, Other\n",
    "- **Encoding**: One-hot encoding (no intrinsic ranking).\n",
    "\n",
    "#### `Experience`\n",
    "- **Categories**: Various numerical ranges (e.g., <1, 1, 2, ..., >20)\n",
    "- **Encoding**: Ordinal (implies increasing years of experience).\n",
    "\n",
    "#### `Company Size`\n",
    "- **Categories**: <10, 10–49, ..., 10000+\n",
    "- **Encoding**: Ordinal (implies increasing size).\n",
    "\n",
    "#### `Company Type`\n",
    "- **Categories**: Pvt Ltd, Funded Startup, NGO, Public Sector, etc.\n",
    "- **Encoding**: One-hot encoding (no inherent order among types).\n",
    "\n",
    "#### `Last New Job`\n",
    "- **Categories**: never, 1, 2, 3, >4\n",
    "- **Encoding**: Ordinal (increasing time since last new job).\n"
   ]
  },
  {
   "cell_type": "markdown",
   "metadata": {},
   "source": [
    "#### List of ordinal columns and one-hot columns"
   ]
  },
  {
   "cell_type": "code",
   "execution_count": 26,
   "metadata": {},
   "outputs": [],
   "source": [
    "cat_ordinal = ['experience', 'company_size', 'last_new_job',\n",
    "               'relevent_experience', 'enrolled_university', 'education_level']\n",
    "\n",
    "cat_one_hot = ['gender', 'major_discipline', 'company_type']\n"
   ]
  },
  {
   "cell_type": "markdown",
   "metadata": {},
   "source": [
    "### Ordinal Encoding (6 columns/features)"
   ]
  },
  {
   "cell_type": "markdown",
   "metadata": {},
   "source": [
    "#### `experience` feature encoding"
   ]
  },
  {
   "cell_type": "code",
   "execution_count": 27,
   "metadata": {},
   "outputs": [
    {
     "data": {
      "text/plain": [
       "array(['>20', '15', '5', '<1', '11', '13', '7', '17', '2', '16', '1', '4',\n",
       "       '10', '14', '18', '19', '12', '3', '6', '9', '8', '20'],\n",
       "      dtype=object)"
      ]
     },
     "execution_count": 27,
     "metadata": {},
     "output_type": "execute_result"
    }
   ],
   "source": [
    "df['experience'].unique()"
   ]
  },
  {
   "cell_type": "code",
   "execution_count": 28,
   "metadata": {},
   "outputs": [],
   "source": [
    "experience_map = {\n",
    "    '<1'      :    0,\n",
    "    '1'       :    1, \n",
    "    '2'       :    2, \n",
    "    '3'       :    3, \n",
    "    '4'       :    4, \n",
    "    '5'       :    5,\n",
    "    '6'       :    6,\n",
    "    '7'       :    7,\n",
    "    '8'       :    8, \n",
    "    '9'       :    9, \n",
    "    '10'      :    10, \n",
    "    '11'      :    11,\n",
    "    '12'      :    12,\n",
    "    '13'      :    13, \n",
    "    '14'      :    14, \n",
    "    '15'      :    15, \n",
    "    '16'      :    16,\n",
    "    '17'      :    17,\n",
    "    '18'      :    18,\n",
    "    '19'      :    19, \n",
    "    '20'      :    20, \n",
    "    '>20'     :    21\n",
    "} "
   ]
  },
  {
   "cell_type": "code",
   "execution_count": 29,
   "metadata": {},
   "outputs": [
    {
     "data": {
      "text/plain": [
       "0        >20\n",
       "1         15\n",
       "2          5\n",
       "3         <1\n",
       "4        >20\n",
       "        ... \n",
       "19153     14\n",
       "19154     14\n",
       "19155    >20\n",
       "19156     <1\n",
       "19157      2\n",
       "Name: experience, Length: 19158, dtype: object"
      ]
     },
     "execution_count": 29,
     "metadata": {},
     "output_type": "execute_result"
    }
   ],
   "source": [
    "# column before encoding\n",
    "df['experience']"
   ]
  },
  {
   "cell_type": "code",
   "execution_count": 30,
   "metadata": {},
   "outputs": [
    {
     "data": {
      "text/plain": [
       "0        21\n",
       "1        15\n",
       "2         5\n",
       "3         0\n",
       "4        21\n",
       "         ..\n",
       "19153    14\n",
       "19154    14\n",
       "19155    21\n",
       "19156     0\n",
       "19157     2\n",
       "Name: experince_encoded, Length: 19158, dtype: int64"
      ]
     },
     "execution_count": 30,
     "metadata": {},
     "output_type": "execute_result"
    }
   ],
   "source": [
    "df['experince_encoded'] = df['experience'].map(experience_map)\n",
    "df['experince_encoded']"
   ]
  },
  {
   "cell_type": "markdown",
   "metadata": {},
   "source": [
    "#### `company_size` feature encoding"
   ]
  },
  {
   "cell_type": "code",
   "execution_count": 31,
   "metadata": {},
   "outputs": [
    {
     "data": {
      "text/plain": [
       "array(['50-99', '<10', '10000+', '5000-9999', '1000-4999', '10/49',\n",
       "       '100-500', '500-999'], dtype=object)"
      ]
     },
     "execution_count": 31,
     "metadata": {},
     "output_type": "execute_result"
    }
   ],
   "source": [
    "df['company_size'].unique()"
   ]
  },
  {
   "cell_type": "code",
   "execution_count": 32,
   "metadata": {},
   "outputs": [],
   "source": [
    "company_size_map = {\n",
    "    '10/49'      :    0,\n",
    "    '<10'        :    1, \n",
    "    '50-99'      :    2,\n",
    "    '100-500'    :    3, \n",
    "    '500-999'    :    4, \n",
    "    '1000-4999'  :    5, \n",
    "    '5000-9999'  :    6, \n",
    "    '10000+'     :    7\n",
    "    \n",
    "}"
   ]
  },
  {
   "cell_type": "code",
   "execution_count": 33,
   "metadata": {},
   "outputs": [
    {
     "data": {
      "text/plain": [
       "0          50-99\n",
       "1          50-99\n",
       "2          50-99\n",
       "3          50-99\n",
       "4          50-99\n",
       "          ...   \n",
       "19153      50-99\n",
       "19154      50-99\n",
       "19155      50-99\n",
       "19156    500-999\n",
       "19157      50-99\n",
       "Name: company_size, Length: 19158, dtype: object"
      ]
     },
     "execution_count": 33,
     "metadata": {},
     "output_type": "execute_result"
    }
   ],
   "source": [
    "df['company_size']"
   ]
  },
  {
   "cell_type": "code",
   "execution_count": 34,
   "metadata": {},
   "outputs": [
    {
     "data": {
      "text/plain": [
       "0        2\n",
       "1        2\n",
       "2        2\n",
       "3        2\n",
       "4        2\n",
       "        ..\n",
       "19153    2\n",
       "19154    2\n",
       "19155    2\n",
       "19156    4\n",
       "19157    2\n",
       "Name: company_size_encoded, Length: 19158, dtype: int64"
      ]
     },
     "execution_count": 34,
     "metadata": {},
     "output_type": "execute_result"
    }
   ],
   "source": [
    "df['company_size_encoded'] = df['company_size'].map(company_size_map)\n",
    "df['company_size_encoded']"
   ]
  },
  {
   "cell_type": "markdown",
   "metadata": {},
   "source": [
    "#### `last_new_job` feature encoding"
   ]
  },
  {
   "cell_type": "code",
   "execution_count": 35,
   "metadata": {},
   "outputs": [
    {
     "data": {
      "text/plain": [
       "array(['1', '>4', 'never', '4', '3', '2'], dtype=object)"
      ]
     },
     "execution_count": 35,
     "metadata": {},
     "output_type": "execute_result"
    }
   ],
   "source": [
    "df['last_new_job'].unique()"
   ]
  },
  {
   "cell_type": "code",
   "execution_count": 36,
   "metadata": {},
   "outputs": [],
   "source": [
    "last_new_job_map = {\n",
    "    'never'        :    0,\n",
    "    '1'            :    1, \n",
    "    '2'            :    2, \n",
    "    '3'            :    3, \n",
    "    '4'            :    4, \n",
    "    '>4'           :    5\n",
    "}"
   ]
  },
  {
   "cell_type": "code",
   "execution_count": 37,
   "metadata": {},
   "outputs": [
    {
     "data": {
      "text/plain": [
       "0            1\n",
       "1           >4\n",
       "2        never\n",
       "3        never\n",
       "4            4\n",
       "         ...  \n",
       "19153        1\n",
       "19154        4\n",
       "19155        4\n",
       "19156        2\n",
       "19157        1\n",
       "Name: last_new_job, Length: 19158, dtype: object"
      ]
     },
     "execution_count": 37,
     "metadata": {},
     "output_type": "execute_result"
    }
   ],
   "source": [
    "df['last_new_job']"
   ]
  },
  {
   "cell_type": "code",
   "execution_count": 38,
   "metadata": {},
   "outputs": [
    {
     "data": {
      "text/plain": [
       "0        1\n",
       "1        5\n",
       "2        0\n",
       "3        0\n",
       "4        4\n",
       "        ..\n",
       "19153    1\n",
       "19154    4\n",
       "19155    4\n",
       "19156    2\n",
       "19157    1\n",
       "Name: last_new_job_encoded, Length: 19158, dtype: int64"
      ]
     },
     "execution_count": 38,
     "metadata": {},
     "output_type": "execute_result"
    }
   ],
   "source": [
    "df['last_new_job_encoded'] = df['last_new_job'].map(last_new_job_map)\n",
    "df['last_new_job_encoded']"
   ]
  },
  {
   "cell_type": "markdown",
   "metadata": {},
   "source": [
    "#### `relevent_experience` feature encoding "
   ]
  },
  {
   "cell_type": "code",
   "execution_count": 39,
   "metadata": {},
   "outputs": [],
   "source": [
    "#your code here"
   ]
  },
  {
   "cell_type": "markdown",
   "metadata": {},
   "source": [
    "#### `enrolled_university` feature encoding"
   ]
  },
  {
   "cell_type": "code",
   "execution_count": 41,
   "metadata": {},
   "outputs": [],
   "source": [
    "#your code here"
   ]
  },
  {
   "cell_type": "markdown",
   "metadata": {},
   "source": [
    "#### `education_level` feature encoding"
   ]
  },
  {
   "cell_type": "code",
   "execution_count": 43,
   "metadata": {},
   "outputs": [],
   "source": [
    "#your code here"
   ]
  },
  {
   "cell_type": "markdown",
   "metadata": {},
   "source": [
    "### Next drop the original ordinal columns from the dataframe and just keep encoded columns"
   ]
  },
  {
   "cell_type": "code",
   "execution_count": 45,
   "metadata": {},
   "outputs": [],
   "source": [
    "#your code here"
   ]
  },
  {
   "cell_type": "markdown",
   "metadata": {},
   "source": [
    "### One-Hot Encoding (3 columns/features)"
   ]
  },
  {
   "cell_type": "code",
   "execution_count": 47,
   "metadata": {},
   "outputs": [
    {
     "data": {
      "text/plain": [
       "['gender', 'major_discipline', 'company_type']"
      ]
     },
     "execution_count": 47,
     "metadata": {},
     "output_type": "execute_result"
    }
   ],
   "source": [
    "cat_one_hot"
   ]
  },
  {
   "cell_type": "code",
   "execution_count": 48,
   "metadata": {},
   "outputs": [],
   "source": [
    "df = pd.get_dummies(df, columns=cat_one_hot, dtype=int)"
   ]
  },
  {
   "cell_type": "code",
   "execution_count": 49,
   "metadata": {},
   "outputs": [
    {
     "data": {
      "text/html": [
       "<div>\n",
       "<style scoped>\n",
       "    .dataframe tbody tr th:only-of-type {\n",
       "        vertical-align: middle;\n",
       "    }\n",
       "\n",
       "    .dataframe tbody tr th {\n",
       "        vertical-align: top;\n",
       "    }\n",
       "\n",
       "    .dataframe thead th {\n",
       "        text-align: right;\n",
       "    }\n",
       "</style>\n",
       "<table border=\"1\" class=\"dataframe\">\n",
       "  <thead>\n",
       "    <tr style=\"text-align: right;\">\n",
       "      <th></th>\n",
       "      <th>0</th>\n",
       "      <th>1</th>\n",
       "      <th>2</th>\n",
       "      <th>3</th>\n",
       "      <th>4</th>\n",
       "    </tr>\n",
       "  </thead>\n",
       "  <tbody>\n",
       "    <tr>\n",
       "      <th>city_development_index</th>\n",
       "      <td>0.92</td>\n",
       "      <td>0.776</td>\n",
       "      <td>0.624</td>\n",
       "      <td>0.789</td>\n",
       "      <td>0.767</td>\n",
       "    </tr>\n",
       "    <tr>\n",
       "      <th>training_hours</th>\n",
       "      <td>36.00</td>\n",
       "      <td>47.000</td>\n",
       "      <td>83.000</td>\n",
       "      <td>52.000</td>\n",
       "      <td>8.000</td>\n",
       "    </tr>\n",
       "    <tr>\n",
       "      <th>target</th>\n",
       "      <td>1.00</td>\n",
       "      <td>0.000</td>\n",
       "      <td>0.000</td>\n",
       "      <td>1.000</td>\n",
       "      <td>0.000</td>\n",
       "    </tr>\n",
       "    <tr>\n",
       "      <th>experince_encoded</th>\n",
       "      <td>21.00</td>\n",
       "      <td>15.000</td>\n",
       "      <td>5.000</td>\n",
       "      <td>0.000</td>\n",
       "      <td>21.000</td>\n",
       "    </tr>\n",
       "    <tr>\n",
       "      <th>company_size_encoded</th>\n",
       "      <td>2.00</td>\n",
       "      <td>2.000</td>\n",
       "      <td>2.000</td>\n",
       "      <td>2.000</td>\n",
       "      <td>2.000</td>\n",
       "    </tr>\n",
       "    <tr>\n",
       "      <th>last_new_job_encoded</th>\n",
       "      <td>1.00</td>\n",
       "      <td>5.000</td>\n",
       "      <td>0.000</td>\n",
       "      <td>0.000</td>\n",
       "      <td>4.000</td>\n",
       "    </tr>\n",
       "    <tr>\n",
       "      <th>relevent_experience_encoded</th>\n",
       "      <td>1.00</td>\n",
       "      <td>0.000</td>\n",
       "      <td>0.000</td>\n",
       "      <td>0.000</td>\n",
       "      <td>1.000</td>\n",
       "    </tr>\n",
       "    <tr>\n",
       "      <th>enrolled_university_encoded</th>\n",
       "      <td>0.00</td>\n",
       "      <td>0.000</td>\n",
       "      <td>2.000</td>\n",
       "      <td>0.000</td>\n",
       "      <td>0.000</td>\n",
       "    </tr>\n",
       "    <tr>\n",
       "      <th>education_level_encoded</th>\n",
       "      <td>2.00</td>\n",
       "      <td>2.000</td>\n",
       "      <td>2.000</td>\n",
       "      <td>2.000</td>\n",
       "      <td>3.000</td>\n",
       "    </tr>\n",
       "    <tr>\n",
       "      <th>gender_Female</th>\n",
       "      <td>0.00</td>\n",
       "      <td>0.000</td>\n",
       "      <td>0.000</td>\n",
       "      <td>0.000</td>\n",
       "      <td>0.000</td>\n",
       "    </tr>\n",
       "    <tr>\n",
       "      <th>gender_Male</th>\n",
       "      <td>1.00</td>\n",
       "      <td>1.000</td>\n",
       "      <td>1.000</td>\n",
       "      <td>1.000</td>\n",
       "      <td>1.000</td>\n",
       "    </tr>\n",
       "    <tr>\n",
       "      <th>gender_Other</th>\n",
       "      <td>0.00</td>\n",
       "      <td>0.000</td>\n",
       "      <td>0.000</td>\n",
       "      <td>0.000</td>\n",
       "      <td>0.000</td>\n",
       "    </tr>\n",
       "    <tr>\n",
       "      <th>major_discipline_Arts</th>\n",
       "      <td>0.00</td>\n",
       "      <td>0.000</td>\n",
       "      <td>0.000</td>\n",
       "      <td>0.000</td>\n",
       "      <td>0.000</td>\n",
       "    </tr>\n",
       "    <tr>\n",
       "      <th>major_discipline_Business Degree</th>\n",
       "      <td>0.00</td>\n",
       "      <td>0.000</td>\n",
       "      <td>0.000</td>\n",
       "      <td>1.000</td>\n",
       "      <td>0.000</td>\n",
       "    </tr>\n",
       "    <tr>\n",
       "      <th>major_discipline_Humanities</th>\n",
       "      <td>0.00</td>\n",
       "      <td>0.000</td>\n",
       "      <td>0.000</td>\n",
       "      <td>0.000</td>\n",
       "      <td>0.000</td>\n",
       "    </tr>\n",
       "    <tr>\n",
       "      <th>major_discipline_No Major</th>\n",
       "      <td>0.00</td>\n",
       "      <td>0.000</td>\n",
       "      <td>0.000</td>\n",
       "      <td>0.000</td>\n",
       "      <td>0.000</td>\n",
       "    </tr>\n",
       "    <tr>\n",
       "      <th>major_discipline_Other</th>\n",
       "      <td>0.00</td>\n",
       "      <td>0.000</td>\n",
       "      <td>0.000</td>\n",
       "      <td>0.000</td>\n",
       "      <td>0.000</td>\n",
       "    </tr>\n",
       "    <tr>\n",
       "      <th>major_discipline_STEM</th>\n",
       "      <td>1.00</td>\n",
       "      <td>1.000</td>\n",
       "      <td>1.000</td>\n",
       "      <td>0.000</td>\n",
       "      <td>1.000</td>\n",
       "    </tr>\n",
       "    <tr>\n",
       "      <th>company_type_Early Stage Startup</th>\n",
       "      <td>0.00</td>\n",
       "      <td>0.000</td>\n",
       "      <td>0.000</td>\n",
       "      <td>0.000</td>\n",
       "      <td>0.000</td>\n",
       "    </tr>\n",
       "    <tr>\n",
       "      <th>company_type_Funded Startup</th>\n",
       "      <td>0.00</td>\n",
       "      <td>0.000</td>\n",
       "      <td>0.000</td>\n",
       "      <td>0.000</td>\n",
       "      <td>1.000</td>\n",
       "    </tr>\n",
       "    <tr>\n",
       "      <th>company_type_NGO</th>\n",
       "      <td>0.00</td>\n",
       "      <td>0.000</td>\n",
       "      <td>0.000</td>\n",
       "      <td>0.000</td>\n",
       "      <td>0.000</td>\n",
       "    </tr>\n",
       "    <tr>\n",
       "      <th>company_type_Other</th>\n",
       "      <td>0.00</td>\n",
       "      <td>0.000</td>\n",
       "      <td>0.000</td>\n",
       "      <td>0.000</td>\n",
       "      <td>0.000</td>\n",
       "    </tr>\n",
       "    <tr>\n",
       "      <th>company_type_Public Sector</th>\n",
       "      <td>0.00</td>\n",
       "      <td>0.000</td>\n",
       "      <td>0.000</td>\n",
       "      <td>0.000</td>\n",
       "      <td>0.000</td>\n",
       "    </tr>\n",
       "    <tr>\n",
       "      <th>company_type_Pvt Ltd</th>\n",
       "      <td>1.00</td>\n",
       "      <td>1.000</td>\n",
       "      <td>1.000</td>\n",
       "      <td>1.000</td>\n",
       "      <td>0.000</td>\n",
       "    </tr>\n",
       "  </tbody>\n",
       "</table>\n",
       "</div>"
      ],
      "text/plain": [
       "                                      0       1       2       3       4\n",
       "city_development_index             0.92   0.776   0.624   0.789   0.767\n",
       "training_hours                    36.00  47.000  83.000  52.000   8.000\n",
       "target                             1.00   0.000   0.000   1.000   0.000\n",
       "experince_encoded                 21.00  15.000   5.000   0.000  21.000\n",
       "company_size_encoded               2.00   2.000   2.000   2.000   2.000\n",
       "last_new_job_encoded               1.00   5.000   0.000   0.000   4.000\n",
       "relevent_experience_encoded        1.00   0.000   0.000   0.000   1.000\n",
       "enrolled_university_encoded        0.00   0.000   2.000   0.000   0.000\n",
       "education_level_encoded            2.00   2.000   2.000   2.000   3.000\n",
       "gender_Female                      0.00   0.000   0.000   0.000   0.000\n",
       "gender_Male                        1.00   1.000   1.000   1.000   1.000\n",
       "gender_Other                       0.00   0.000   0.000   0.000   0.000\n",
       "major_discipline_Arts              0.00   0.000   0.000   0.000   0.000\n",
       "major_discipline_Business Degree   0.00   0.000   0.000   1.000   0.000\n",
       "major_discipline_Humanities        0.00   0.000   0.000   0.000   0.000\n",
       "major_discipline_No Major          0.00   0.000   0.000   0.000   0.000\n",
       "major_discipline_Other             0.00   0.000   0.000   0.000   0.000\n",
       "major_discipline_STEM              1.00   1.000   1.000   0.000   1.000\n",
       "company_type_Early Stage Startup   0.00   0.000   0.000   0.000   0.000\n",
       "company_type_Funded Startup        0.00   0.000   0.000   0.000   1.000\n",
       "company_type_NGO                   0.00   0.000   0.000   0.000   0.000\n",
       "company_type_Other                 0.00   0.000   0.000   0.000   0.000\n",
       "company_type_Public Sector         0.00   0.000   0.000   0.000   0.000\n",
       "company_type_Pvt Ltd               1.00   1.000   1.000   1.000   0.000"
      ]
     },
     "execution_count": 49,
     "metadata": {},
     "output_type": "execute_result"
    }
   ],
   "source": [
    "df.head().T"
   ]
  },
  {
   "cell_type": "markdown",
   "metadata": {},
   "source": [
    "#### What happend to the `gender` column? What about the `major_discipline` and `company_type` columns?"
   ]
  },
  {
   "cell_type": "markdown",
   "metadata": {},
   "source": []
  },
  {
   "cell_type": "markdown",
   "metadata": {},
   "source": [
    "`gender` column turned into three on-hot columns: `gender_Female`, `gender_Male`, `gender_Other`"
   ]
  },
  {
   "cell_type": "markdown",
   "metadata": {},
   "source": [
    "### Now all features are numbers and ready for the machine learning model"
   ]
  },
  {
   "cell_type": "code",
   "execution_count": 50,
   "metadata": {},
   "outputs": [
    {
     "data": {
      "text/plain": [
       "['city_development_index',\n",
       " 'training_hours',\n",
       " 'experince_encoded',\n",
       " 'company_size_encoded',\n",
       " 'last_new_job_encoded',\n",
       " 'relevent_experience_encoded',\n",
       " 'enrolled_university_encoded',\n",
       " 'education_level_encoded',\n",
       " 'gender_Female',\n",
       " 'gender_Male',\n",
       " 'gender_Other',\n",
       " 'major_discipline_Arts',\n",
       " 'major_discipline_Business Degree',\n",
       " 'major_discipline_Humanities',\n",
       " 'major_discipline_No Major',\n",
       " 'major_discipline_Other',\n",
       " 'major_discipline_STEM',\n",
       " 'company_type_Early Stage Startup',\n",
       " 'company_type_Funded Startup',\n",
       " 'company_type_NGO',\n",
       " 'company_type_Other',\n",
       " 'company_type_Public Sector',\n",
       " 'company_type_Pvt Ltd']"
      ]
     },
     "execution_count": 50,
     "metadata": {},
     "output_type": "execute_result"
    }
   ],
   "source": [
    "X_cols = list(df.columns)\n",
    "X_cols.remove('target')\n",
    "X_cols"
   ]
  },
  {
   "cell_type": "code",
   "execution_count": 51,
   "metadata": {},
   "outputs": [],
   "source": [
    "X = df[X_cols]\n",
    "y = df['target']"
   ]
  },
  {
   "cell_type": "markdown",
   "metadata": {},
   "source": [
    "#### Implement Logestic Regression model to predict the target column\n",
    "#### Use cross validation (`cv=5`) to split the data and evulate the model\n",
    "\n",
    " - Use `GridSearchCV()` method and pass `model`, `param_grid={}`, `cv=5` as arguments\n",
    " - Use `cv_results_` attribute over your `grid` object to get the results of the cross validation "
   ]
  },
  {
   "cell_type": "markdown",
   "metadata": {},
   "source": [
    "Cross Validation (Review)\n",
    "\n",
    "We used to split the dataset to test and train using `train_test_split` function. However we can also use `cross-validation` to split the dataset `X` and `y`. \n",
    "\n",
    "For example, if we use `cv=5`, the dataset will be split into 5 parts. 4 parts will be used for training and 1 part will be used for testing. This process will be repeated 5 times and the average accuracy will be calculated.\n",
    "\n",
    "<img src=\"./cross_validation.jpg\" width=\"800\" hight=\"200\" /> "
   ]
  },
  {
   "cell_type": "code",
   "execution_count": 52,
   "metadata": {},
   "outputs": [],
   "source": [
    "#your code here\n"
   ]
  },
  {
   "cell_type": "markdown",
   "metadata": {},
   "source": [
    "#### Plot boxplot of the cross validation results (test score of splits)\n",
    "#### To visualize the `maximum`, `minimum`, `median`, `first quartile` and `third quartile` of the cross validation results"
   ]
  },
  {
   "cell_type": "code",
   "execution_count": 56,
   "metadata": {},
   "outputs": [],
   "source": [
    "#your code here"
   ]
  },
  {
   "cell_type": "code",
   "execution_count": null,
   "metadata": {},
   "outputs": [
    {
     "data": {
      "text/plain": [
       "{'whiskers': [<matplotlib.lines.Line2D at 0x2733fa80f10>,\n",
       "  <matplotlib.lines.Line2D at 0x2733fa818d0>],\n",
       " 'caps': [<matplotlib.lines.Line2D at 0x2733fa82210>,\n",
       "  <matplotlib.lines.Line2D at 0x2733fa82a10>],\n",
       " 'boxes': [<matplotlib.lines.Line2D at 0x2733fa62dd0>],\n",
       " 'medians': [<matplotlib.lines.Line2D at 0x2733fa832d0>],\n",
       " 'fliers': [<matplotlib.lines.Line2D at 0x2733fa83b50>],\n",
       " 'means': []}"
      ]
     },
     "execution_count": 58,
     "metadata": {},
     "output_type": "execute_result"
    },
    {
     "data": {
      "image/png": "[encoded data removed]",
      "text/plain": [
       "<Figure size 640x480 with 1 Axes>"
      ]
     },
     "metadata": {},
     "output_type": "display_data"
    }
   ],
   "source": []
  },
  {
   "cell_type": "markdown",
   "metadata": {},
   "source": [
    "#### Repeat the training and testing process with `RandomForestClassifier` model and plot the results in a boxplot. Which model is better?"
   ]
  },
  {
   "cell_type": "code",
   "execution_count": 59,
   "metadata": {},
   "outputs": [],
   "source": [
    "#your code here"
   ]
  },
  {
   "cell_type": "code",
   "execution_count": null,
   "metadata": {},
   "outputs": [],
   "source": []
  }
 ],
 "metadata": {
  "kernelspec": {
   "display_name": "virtual-env",
   "language": "python",
   "name": "python3"
  },
  "language_info": {
   "codemirror_mode": {
    "name": "ipython",
    "version": 3
   },
   "file_extension": ".py",
   "mimetype": "text/x-python",
   "name": "python",
   "nbconvert_exporter": "python",
   "pygments_lexer": "ipython3",
   "version": "3.11.4"
  }
 },
 "nbformat": 4,
 "nbformat_minor": 2
}
