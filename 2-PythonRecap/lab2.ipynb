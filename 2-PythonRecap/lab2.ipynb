{
 "cells": [
  {
   "cell_type": "markdown",
   "metadata": {},
   "source": [
    "## Python Recap\n"
   ]
  },
  {
   "cell_type": "markdown",
   "metadata": {},
   "source": [
    "## List Slicing (revisited)"
   ]
  },
  {
   "cell_type": "markdown",
   "metadata": {},
   "source": [
    "\"We focus on `list` slicing here because of its importance in solving data science problems. Next week, we'll talk about `NumPy arrays`, which are inherently lists of numbers with more efficiency for numerical computations such as statistical analysis (e.g., mean, median, and variance) and linear algebra (e.g., matrix multiplication and dot product).\n"
   ]
  },
  {
   "cell_type": "markdown",
   "metadata": {},
   "source": [
    "**Basic slicing with step**"
   ]
  },
  {
   "cell_type": "code",
   "execution_count": 2,
   "metadata": {},
   "outputs": [
    {
     "name": "stdout",
     "output_type": "stream",
     "text": [
      "[20, 40]\n"
     ]
    }
   ],
   "source": [
    "# [startIndex:stopIndex:step] - start index is inclusive, stop index is exclusive\n",
    "# Create a list of numbers\n",
    "my_list = [10, 20, 30, 40, 50, 60, 70, 80]\n",
    "\n",
    "# Slicing from index 1 to 5 (exclusive) with a step of 2\n",
    "print(my_list[1:5:2])  # Output: [20, 40]"
   ]
  },
  {
   "cell_type": "markdown",
   "metadata": {},
   "source": [
    "**Slicing with negative indices and negative steps**"
   ]
  },
  {
   "cell_type": "code",
   "execution_count": 3,
   "metadata": {},
   "outputs": [
    {
     "name": "stdout",
     "output_type": "stream",
     "text": [
      "[40, 50, 60, 70]\n",
      "[80, 70, 60, 50]\n"
     ]
    }
   ],
   "source": [
    "# Slicing the list using negative indices\n",
    "print(my_list[-5:-1])  # Output: [40, 50, 60, 70]\n",
    "print(my_list[-1:-5:-1])  # Output: [80, 70, 60, 50]"
   ]
  },
  {
   "cell_type": "markdown",
   "metadata": {},
   "source": [
    "**Similarity between slicing and range function**"
   ]
  },
  {
   "cell_type": "code",
   "execution_count": 11,
   "metadata": {},
   "outputs": [
    {
     "name": "stdout",
     "output_type": "stream",
     "text": [
      "====positive step=====\n",
      "2\n",
      "4\n",
      "6\n",
      "8\n",
      "====negative step=====\n",
      "10\n",
      "9\n",
      "8\n",
      "7\n",
      "6\n"
     ]
    }
   ],
   "source": [
    "print(\"====positive step=====\")\n",
    "for i in range(2, 10, 2):\n",
    "    print(i)\n",
    "\n",
    "print(\"====negative step=====\")\n",
    "for i in range(10, 5, -1):   \n",
    "    print(i)"
   ]
  },
  {
   "cell_type": "markdown",
   "metadata": {},
   "source": [
    "**Omitting start or end index**"
   ]
  },
  {
   "cell_type": "code",
   "execution_count": 9,
   "metadata": {},
   "outputs": [
    {
     "name": "stdout",
     "output_type": "stream",
     "text": [
      "[10, 20, 30, 40, 50]\n",
      "[40, 50, 60, 70, 80]\n",
      "[10, 30, 50, 70]\n"
     ]
    }
   ],
   "source": [
    "# Slicing from the beginning to index 4 (exclusive)\n",
    "print(my_list[:5])  # Output: [10, 20, 30, 40, 50]\n",
    "\n",
    "# Slicing from index 3 to the end of the list\n",
    "print(my_list[3:])  # Output: [40, 50, 60, 70, 80]\n",
    "\n",
    "# Slicing with a step of 2\n",
    "print(my_list[::2])  # Output: [10, 30, 50, 70]\n"
   ]
  },
  {
   "cell_type": "markdown",
   "metadata": {},
   "source": [
    "**Reverse the list using slicing**"
   ]
  },
  {
   "cell_type": "code",
   "execution_count": 10,
   "metadata": {},
   "outputs": [
    {
     "name": "stdout",
     "output_type": "stream",
     "text": [
      "[80, 70, 60, 50, 40, 30, 20, 10]\n"
     ]
    }
   ],
   "source": [
    "print(my_list[::-1])  # Output: [80, 70, 60, 50, 40, 30, 20, 10]"
   ]
  },
  {
   "cell_type": "markdown",
   "metadata": {},
   "source": [
    "**Copying a list using slicing**"
   ]
  },
  {
   "cell_type": "code",
   "execution_count": null,
   "metadata": {},
   "outputs": [],
   "source": [
    "# Create a copy of the entire list using slicing\n",
    "copy_list = my_list[:]\n",
    "print(copy_list)  # Output: [10, 20, 30, 40, 50, 60, 70, 80]\n"
   ]
  },
  {
   "cell_type": "markdown",
   "metadata": {},
   "source": [
    "**Question:** What is the difference between normal copy (`list2` = `list1`) and copy with slicing (`list2`=`list1[:]`)?"
   ]
  },
  {
   "cell_type": "markdown",
   "metadata": {},
   "source": [
    "## List Comprehension"
   ]
  },
  {
   "cell_type": "markdown",
   "metadata": {},
   "source": [
    "List comprehension can be replaced by a for loop. However, it is more concise and readable. As a data scientis, it is a good practice to use list comprehension when possible. "
   ]
  },
  {
   "cell_type": "markdown",
   "metadata": {},
   "source": [
    "**Map data from one list to another list**"
   ]
  },
  {
   "cell_type": "code",
   "execution_count": null,
   "metadata": {},
   "outputs": [],
   "source": [
    "nums = [0, 1, 2, 3, 4]\n",
    "squares = []\n",
    "for x in nums:\n",
    "    squares.append(x ** 2)\n",
    "print(squares)   # Prints [0, 1, 4, 9, 16]"
   ]
  },
  {
   "cell_type": "code",
   "execution_count": null,
   "metadata": {},
   "outputs": [],
   "source": [
    "# list comprehensions (preferred)\n",
    "nums = [0, 1, 2, 3, 4]\n",
    "squares = [x ** 2 for x in nums]\n",
    "print(squares)   # Prints [0, 1, 4, 9, 16]"
   ]
  },
  {
   "cell_type": "markdown",
   "metadata": {},
   "source": [
    "**Filter data**"
   ]
  },
  {
   "cell_type": "code",
   "execution_count": 3,
   "metadata": {},
   "outputs": [
    {
     "name": "stdout",
     "output_type": "stream",
     "text": [
      "[1, 2, 4]\n"
     ]
    }
   ],
   "source": [
    "nums = [0, 1, 2, -3, 4, -5]\n",
    "#filter pisitive numbers\n",
    "even_squares = [x for x in nums if x > 0]\n",
    "print(even_squares)  # Prints \"[0, 4, 16]\""
   ]
  },
  {
   "cell_type": "markdown",
   "metadata": {},
   "source": [
    "## Lambda functions (anonymous functions)"
   ]
  },
  {
   "cell_type": "markdown",
   "metadata": {},
   "source": [
    "## Dictionary \n",
    "`Dictionary` in python is a very useful data structure to represents data in key-value pairs. We're going to talk about the other represntation of data such `pandas dataframe` in this course. But keep in mind, conceptually, they are other manifestation of `dictionary` in python with some addtion features to make it easier to work with data."
   ]
  },
  {
   "cell_type": "code",
   "execution_count": null,
   "metadata": {},
   "outputs": [],
   "source": [
    "data_dict = {'Name': ['Alice', 'Bob', 'Aritra'],\n",
    "                   'Age': [25, 30, 35],\n",
    "                   'Location': ['Seattle', 'New York', 'Kona']}"
   ]
  },
  {
   "cell_type": "markdown",
   "metadata": {},
   "source": [
    "This data is in the form of `dictionaly of lists`. We can also express it in the form of `list of dictionaries` as shown below:"
   ]
  },
  {
   "cell_type": "code",
   "execution_count": 5,
   "metadata": {},
   "outputs": [],
   "source": [
    "data_list = [{'Name': 'Alice', 'Age': 25, 'Location': 'Seattle'}, \n",
    "         {'Name': 'Bob', 'Age': 30, 'Location': 'New York'}, \n",
    "         {'Name': 'Aritra', 'Age': 35, 'Location': 'Kona'}]"
   ]
  },
  {
   "cell_type": "markdown",
   "metadata": {},
   "source": [
    "### LeetCode problems on Dictionary\n",
    "\n",
    "**217. Contains Duplicate** \n",
    "\n",
    "https://leetcode.com/problems/contains-duplicate/description/\n",
    "\n",
    "\n",
    "**242. Valid Anagram**\n",
    "\n",
    "https://leetcode.com/problems/valid-anagram/description/\n",
    "\n",
    "**1. Two Sum** \n",
    "\n",
    "https://leetcode.com/problems/two-sum/description/\n",
    "\n",
    "**26. Remove Duplicates from Sorted Array**\n",
    "\n",
    "https://leetcode.com/problems/remove-duplicates-from-sorted-array/description/"
   ]
  },
  {
   "cell_type": "markdown",
   "metadata": {},
   "source": []
  }
 ],
 "metadata": {
  "kernelspec": {
   "display_name": ".pydata",
   "language": "python",
   "name": "python3"
  },
  "language_info": {
   "codemirror_mode": {
    "name": "ipython",
    "version": 3
   },
   "file_extension": ".py",
   "mimetype": "text/x-python",
   "name": "python",
   "nbconvert_exporter": "python",
   "pygments_lexer": "ipython3",
   "version": "3.11.4"
  }
 },
 "nbformat": 4,
 "nbformat_minor": 2
}
