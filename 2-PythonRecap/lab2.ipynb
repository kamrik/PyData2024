{
 "cells": [
  {
   "cell_type": "markdown",
   "metadata": {},
   "source": [
    "## Python Recap\n"
   ]
  },
  {
   "cell_type": "markdown",
   "metadata": {},
   "source": [
    "## List Slicing"
   ]
  },
  {
   "cell_type": "markdown",
   "metadata": {},
   "source": [
    "## List Comprehension"
   ]
  },
  {
   "cell_type": "markdown",
   "metadata": {},
   "source": [
    "**Map data from one list to another list**"
   ]
  },
  {
   "cell_type": "code",
   "execution_count": null,
   "metadata": {},
   "outputs": [],
   "source": [
    "nums = [0, 1, 2, 3, 4]\n",
    "squares = []\n",
    "for x in nums:\n",
    "    squares.append(x ** 2)\n",
    "print(squares)   # Prints [0, 1, 4, 9, 16]"
   ]
  },
  {
   "cell_type": "code",
   "execution_count": null,
   "metadata": {},
   "outputs": [],
   "source": [
    "# list comprehensions (preferred)\n",
    "nums = [0, 1, 2, 3, 4]\n",
    "squares = [x ** 2 for x in nums]\n",
    "print(squares)   # Prints [0, 1, 4, 9, 16]"
   ]
  },
  {
   "cell_type": "markdown",
   "metadata": {},
   "source": [
    "**Filter data**"
   ]
  },
  {
   "cell_type": "code",
   "execution_count": 3,
   "metadata": {},
   "outputs": [
    {
     "name": "stdout",
     "output_type": "stream",
     "text": [
      "[1, 2, 4]\n"
     ]
    }
   ],
   "source": [
    "nums = [0, 1, 2, -3, 4, -5]\n",
    "#filter pisitive numbers\n",
    "even_squares = [x for x in nums if x > 0]\n",
    "print(even_squares)  # Prints \"[0, 4, 16]\""
   ]
  },
  {
   "cell_type": "markdown",
   "metadata": {},
   "source": [
    "## Lambda functions (anonymous functions)"
   ]
  },
  {
   "cell_type": "markdown",
   "metadata": {},
   "source": [
    "## Dictionary \n",
    "Dictionary in python is a very useful data structure to represents data in key-value pairs. It is very useful when we want to store data in a structured way."
   ]
  },
  {
   "cell_type": "code",
   "execution_count": null,
   "metadata": {},
   "outputs": [],
   "source": [
    "data = {'Name': ['Alice', 'Bob', 'Aritra'],\n",
    "                   'Age': [25, 30, 35],\n",
    "                   'Location': ['Seattle', 'New York', 'Kona']}"
   ]
  },
  {
   "cell_type": "markdown",
   "metadata": {},
   "source": [
    "### LeetCode problems on Dictionary\n",
    "\n",
    "**217. Contains Duplicate** \n",
    "\n",
    "https://leetcode.com/problems/contains-duplicate/description/\n",
    "\n",
    "\n",
    "**242. Valid Anagram**\n",
    "\n",
    "https://leetcode.com/problems/valid-anagram/description/\n",
    "\n",
    "**1. Two Sum** \n",
    "\n",
    "https://leetcode.com/problems/two-sum/description/\n",
    "\n",
    "**26. Remove Duplicates from Sorted Array**\n",
    "\n",
    "https://leetcode.com/problems/remove-duplicates-from-sorted-array/description/"
   ]
  }
 ],
 "metadata": {
  "kernelspec": {
   "display_name": ".pydata",
   "language": "python",
   "name": "python3"
  },
  "language_info": {
   "codemirror_mode": {
    "name": "ipython",
    "version": 3
   },
   "file_extension": ".py",
   "mimetype": "text/x-python",
   "name": "python",
   "nbconvert_exporter": "python",
   "pygments_lexer": "ipython3",
   "version": "3.11.4"
  }
 },
 "nbformat": 4,
 "nbformat_minor": 2
}
