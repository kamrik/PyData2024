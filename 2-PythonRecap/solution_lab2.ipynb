{
 "cells": [
  {
   "cell_type": "code",
   "execution_count": null,
   "metadata": {},
   "outputs": [],
   "source": [
    "#Accepted\n",
    "class Solution:\n",
    "    def containsDuplicate(self, nums: List[int]) -> bool:\n",
    "        dict = {}\n",
    "        for num in nums:\n",
    "            dict[num] = dict.get(num, 0) + 1\n",
    "\n",
    "\n",
    "        for key,val in dict.items():\n",
    "            if val > 1:\n",
    "                return True\n",
    "        \n",
    "        return False"
   ]
  }
 ],
 "metadata": {
  "language_info": {
   "name": "python"
  }
 },
 "nbformat": 4,
 "nbformat_minor": 2
}
