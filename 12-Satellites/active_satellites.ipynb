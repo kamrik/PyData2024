{
 "cells": [
  {
   "cell_type": "code",
   "execution_count": 31,
   "metadata": {},
   "outputs": [],
   "source": [
    "import numpy as np\n",
    "import matplotlib.pyplot as plt\n",
    "import pandas as pd\n",
    "import matplotlib.pyplot as plt"
   ]
  },
  {
   "cell_type": "markdown",
   "metadata": {},
   "source": [
    "## Date & time exercises (without loading the data)"
   ]
  },
  {
   "cell_type": "markdown",
   "metadata": {},
   "source": [
    "#### The Apollo 11 mission landed on the moon on  July 20th, 1969\n",
    " * What day of week was it?\n",
    " * How many days elapsed since the landing till now?\n",
    " * Was that a leap year?"
   ]
  },
  {
   "cell_type": "code",
   "execution_count": 4,
   "metadata": {},
   "outputs": [
    {
     "data": {
      "text/plain": [
       "Timestamp('2024-11-19 09:17:27.729453')"
      ]
     },
     "execution_count": 4,
     "metadata": {},
     "output_type": "execute_result"
    }
   ],
   "source": [
    "today = pd.to_datetime('today')\n",
    "today"
   ]
  },
  {
   "cell_type": "code",
   "execution_count": 6,
   "metadata": {},
   "outputs": [
    {
     "data": {
      "text/plain": [
       "Timestamp('1969-07-20 00:00:00')"
      ]
     },
     "execution_count": 6,
     "metadata": {},
     "output_type": "execute_result"
    }
   ],
   "source": [
    "t = pd.to_datetime('July 20th, 1969')\n",
    "t"
   ]
  },
  {
   "cell_type": "code",
   "execution_count": 8,
   "metadata": {},
   "outputs": [
    {
     "data": {
      "text/plain": [
       "False"
      ]
     },
     "execution_count": 8,
     "metadata": {},
     "output_type": "execute_result"
    }
   ],
   "source": [
    "t.is_leap_year"
   ]
  },
  {
   "cell_type": "code",
   "execution_count": 9,
   "metadata": {},
   "outputs": [
    {
     "data": {
      "text/plain": [
       "6"
      ]
     },
     "execution_count": 9,
     "metadata": {},
     "output_type": "execute_result"
    }
   ],
   "source": [
    "# the day of the week\n",
    "t.weekday()"
   ]
  },
  {
   "cell_type": "code",
   "execution_count": 14,
   "metadata": {},
   "outputs": [
    {
     "data": {
      "text/plain": [
       "'Sunday'"
      ]
     },
     "execution_count": 14,
     "metadata": {},
     "output_type": "execute_result"
    }
   ],
   "source": [
    "t.day_name()"
   ]
  },
  {
   "cell_type": "code",
   "execution_count": 7,
   "metadata": {},
   "outputs": [
    {
     "data": {
      "text/plain": [
       "Timedelta('20211 days 09:17:27.729453')"
      ]
     },
     "execution_count": 7,
     "metadata": {},
     "output_type": "execute_result"
    }
   ],
   "source": [
    "today - t"
   ]
  },
  {
   "cell_type": "markdown",
   "metadata": {},
   "source": [
    "## Active Satellites in Orbit Around Earth\n",
    " * The CSV file is on GitHub in the same folder as this notebook\n",
    " * Data Source: https://www.kaggle.com/ucsusa/active-satellites"
   ]
  },
  {
   "cell_type": "code",
   "execution_count": 15,
   "metadata": {},
   "outputs": [],
   "source": [
    "df = pd.read_csv('active_satellites.csv')"
   ]
  },
  {
   "cell_type": "code",
   "execution_count": 16,
   "metadata": {},
   "outputs": [
    {
     "data": {
      "text/html": [
       "<div>\n",
       "<style scoped>\n",
       "    .dataframe tbody tr th:only-of-type {\n",
       "        vertical-align: middle;\n",
       "    }\n",
       "\n",
       "    .dataframe tbody tr th {\n",
       "        vertical-align: top;\n",
       "    }\n",
       "\n",
       "    .dataframe thead th {\n",
       "        text-align: right;\n",
       "    }\n",
       "</style>\n",
       "<table border=\"1\" class=\"dataframe\">\n",
       "  <thead>\n",
       "    <tr style=\"text-align: right;\">\n",
       "      <th></th>\n",
       "      <th>657</th>\n",
       "    </tr>\n",
       "  </thead>\n",
       "  <tbody>\n",
       "    <tr>\n",
       "      <th>Official Name of Satellite</th>\n",
       "      <td>International Space Station</td>\n",
       "    </tr>\n",
       "    <tr>\n",
       "      <th>Country/Organization of UN Registry</th>\n",
       "      <td>USA</td>\n",
       "    </tr>\n",
       "    <tr>\n",
       "      <th>Operator/Owner</th>\n",
       "      <td>NASA/Multinational</td>\n",
       "    </tr>\n",
       "    <tr>\n",
       "      <th>Country of Operator/Owner</th>\n",
       "      <td>Multinational</td>\n",
       "    </tr>\n",
       "    <tr>\n",
       "      <th>Users</th>\n",
       "      <td>Government</td>\n",
       "    </tr>\n",
       "    <tr>\n",
       "      <th>Purpose</th>\n",
       "      <td>Space Science</td>\n",
       "    </tr>\n",
       "    <tr>\n",
       "      <th>Detailed Purpose</th>\n",
       "      <td>NaN</td>\n",
       "    </tr>\n",
       "    <tr>\n",
       "      <th>Class of Orbit</th>\n",
       "      <td>LEO</td>\n",
       "    </tr>\n",
       "    <tr>\n",
       "      <th>Type of Orbit</th>\n",
       "      <td>Non-Polar Inclined</td>\n",
       "    </tr>\n",
       "    <tr>\n",
       "      <th>Longitude of Geosynchronous Orbit (Degrees)</th>\n",
       "      <td>0.0</td>\n",
       "    </tr>\n",
       "    <tr>\n",
       "      <th>Perigee (Kilometers)</th>\n",
       "      <td>401.0</td>\n",
       "    </tr>\n",
       "    <tr>\n",
       "      <th>Apogee (Kilometers)</th>\n",
       "      <td>422.0</td>\n",
       "    </tr>\n",
       "    <tr>\n",
       "      <th>Eccentricity</th>\n",
       "      <td>0.00155</td>\n",
       "    </tr>\n",
       "    <tr>\n",
       "      <th>Inclination (Degrees)</th>\n",
       "      <td>51.6</td>\n",
       "    </tr>\n",
       "    <tr>\n",
       "      <th>Period (Minutes)</th>\n",
       "      <td>92.8</td>\n",
       "    </tr>\n",
       "    <tr>\n",
       "      <th>Launch Mass (Kilograms)</th>\n",
       "      <td>NaN</td>\n",
       "    </tr>\n",
       "    <tr>\n",
       "      <th>Dry Mass (Kilograms)</th>\n",
       "      <td>NaN</td>\n",
       "    </tr>\n",
       "    <tr>\n",
       "      <th>Power (Watts)</th>\n",
       "      <td>NaN</td>\n",
       "    </tr>\n",
       "    <tr>\n",
       "      <th>Date of Launch</th>\n",
       "      <td>11/20/1998</td>\n",
       "    </tr>\n",
       "    <tr>\n",
       "      <th>Expected Lifetime (Years)</th>\n",
       "      <td>30</td>\n",
       "    </tr>\n",
       "    <tr>\n",
       "      <th>Contractor</th>\n",
       "      <td>Boeing Satellite Systems (prime)/Multinational</td>\n",
       "    </tr>\n",
       "    <tr>\n",
       "      <th>Country of Contractor</th>\n",
       "      <td>Multinational</td>\n",
       "    </tr>\n",
       "    <tr>\n",
       "      <th>Launch Site</th>\n",
       "      <td>Baikonur Cosmodrome</td>\n",
       "    </tr>\n",
       "    <tr>\n",
       "      <th>Launch Vehicle</th>\n",
       "      <td>Proton</td>\n",
       "    </tr>\n",
       "    <tr>\n",
       "      <th>COSPAR Number</th>\n",
       "      <td>1998-067A</td>\n",
       "    </tr>\n",
       "    <tr>\n",
       "      <th>NORAD Number</th>\n",
       "      <td>25544.0</td>\n",
       "    </tr>\n",
       "  </tbody>\n",
       "</table>\n",
       "</div>"
      ],
      "text/plain": [
       "                                                                                        657\n",
       "Official Name of Satellite                                      International Space Station\n",
       "Country/Organization of UN Registry                                                     USA\n",
       "Operator/Owner                                                           NASA/Multinational\n",
       "Country of Operator/Owner                                                     Multinational\n",
       "Users                                                                            Government\n",
       "Purpose                                                                       Space Science\n",
       "Detailed Purpose                                                                        NaN\n",
       "Class of Orbit                                                                          LEO\n",
       "Type of Orbit                                                            Non-Polar Inclined\n",
       "Longitude of Geosynchronous Orbit (Degrees)                                             0.0\n",
       "Perigee (Kilometers)                                                                  401.0\n",
       "Apogee (Kilometers)                                                                   422.0\n",
       "Eccentricity                                                                        0.00155\n",
       "Inclination (Degrees)                                                                  51.6\n",
       "Period (Minutes)                                                                       92.8\n",
       "Launch Mass (Kilograms)                                                                 NaN\n",
       "Dry Mass (Kilograms)                                                                    NaN\n",
       "Power (Watts)                                                                           NaN\n",
       "Date of Launch                                                                   11/20/1998\n",
       "Expected Lifetime (Years)                                                                30\n",
       "Contractor                                   Boeing Satellite Systems (prime)/Multinational\n",
       "Country of Contractor                                                         Multinational\n",
       "Launch Site                                                             Baikonur Cosmodrome\n",
       "Launch Vehicle                                                                       Proton\n",
       "COSPAR Number                                                                     1998-067A\n",
       "NORAD Number                                                                        25544.0"
      ]
     },
     "execution_count": 16,
     "metadata": {},
     "output_type": "execute_result"
    }
   ],
   "source": [
    "# Here is the International Space Station (ISS) in this list\n",
    "df[df['Official Name of Satellite'].str.contains('tation')].T"
   ]
  },
  {
   "cell_type": "markdown",
   "metadata": {},
   "source": [
    "#### The olny column with dates is 'Date of Launch'. By default it is loaded as string. Convert the column (or create a new one) so that it contains parsed dates. Let's call it \"launched\". (feel free to rename other columns as needed for convenience)"
   ]
  },
  {
   "cell_type": "code",
   "execution_count": 17,
   "metadata": {},
   "outputs": [
    {
     "data": {
      "text/plain": [
       "0        4/25/2016\n",
       "1         2/6/2014\n",
       "2        6/15/2016\n",
       "3        8/19/1997\n",
       "4         3/2/2015\n",
       "           ...    \n",
       "1415      6/9/2008\n",
       "1416     9/19/2015\n",
       "1417    12/22/2011\n",
       "1418      1/9/2012\n",
       "1419     5/29/2016\n",
       "Name: Date of Launch, Length: 1420, dtype: object"
      ]
     },
     "execution_count": 17,
     "metadata": {},
     "output_type": "execute_result"
    }
   ],
   "source": [
    "df['Date of Launch']"
   ]
  },
  {
   "cell_type": "code",
   "execution_count": 19,
   "metadata": {},
   "outputs": [
    {
     "data": {
      "text/plain": [
       "0      2016-04-25\n",
       "1      2014-02-06\n",
       "2      2016-06-15\n",
       "3      1997-08-19\n",
       "4      2015-03-02\n",
       "          ...    \n",
       "1415   2008-06-09\n",
       "1416   2015-09-19\n",
       "1417   2011-12-22\n",
       "1418   2012-01-09\n",
       "1419   2016-05-29\n",
       "Name: launched, Length: 1420, dtype: datetime64[ns]"
      ]
     },
     "execution_count": 19,
     "metadata": {},
     "output_type": "execute_result"
    }
   ],
   "source": [
    "df['launched'] = pd.to_datetime(df['Date of Launch'])\n",
    "df['launched']"
   ]
  },
  {
   "cell_type": "markdown",
   "metadata": {},
   "source": [
    "#### Remember that we can access the date/time specific functions of Timestamp columns using \"dt\""
   ]
  },
  {
   "cell_type": "code",
   "execution_count": 22,
   "metadata": {},
   "outputs": [
    {
     "data": {
      "text/plain": [
       "0       2016.0\n",
       "1       2014.0\n",
       "2       2016.0\n",
       "3       1997.0\n",
       "4       2015.0\n",
       "         ...  \n",
       "1415    2008.0\n",
       "1416    2015.0\n",
       "1417    2011.0\n",
       "1418    2012.0\n",
       "1419    2016.0\n",
       "Name: launched, Length: 1420, dtype: float64"
      ]
     },
     "execution_count": 22,
     "metadata": {},
     "output_type": "execute_result"
    }
   ],
   "source": [
    "# For example to get the year use\n",
    "df['launched'].dt.year"
   ]
  },
  {
   "cell_type": "markdown",
   "metadata": {},
   "source": [
    "#### dt.year returns an integer but the output from the cell above contains the years in a Series object with float data type. Why is it float and not integer?\"\n",
    "Hint: missing values and NaN"
   ]
  },
  {
   "cell_type": "code",
   "execution_count": null,
   "metadata": {},
   "outputs": [],
   "source": []
  },
  {
   "cell_type": "code",
   "execution_count": null,
   "metadata": {},
   "outputs": [],
   "source": []
  },
  {
   "cell_type": "markdown",
   "metadata": {},
   "source": [
    "#### Are there any rows with missing launch date? How is this missing data represented in the converted Timestamp column?\n"
   ]
  },
  {
   "cell_type": "code",
   "execution_count": 23,
   "metadata": {},
   "outputs": [
    {
     "data": {
      "text/plain": [
       "np.int64(4)"
      ]
     },
     "execution_count": 23,
     "metadata": {},
     "output_type": "execute_result"
    }
   ],
   "source": [
    "df['launched'].isnull().sum()"
   ]
  },
  {
   "cell_type": "code",
   "execution_count": 24,
   "metadata": {},
   "outputs": [
    {
     "data": {
      "text/html": [
       "<div>\n",
       "<style scoped>\n",
       "    .dataframe tbody tr th:only-of-type {\n",
       "        vertical-align: middle;\n",
       "    }\n",
       "\n",
       "    .dataframe tbody tr th {\n",
       "        vertical-align: top;\n",
       "    }\n",
       "\n",
       "    .dataframe thead th {\n",
       "        text-align: right;\n",
       "    }\n",
       "</style>\n",
       "<table border=\"1\" class=\"dataframe\">\n",
       "  <thead>\n",
       "    <tr style=\"text-align: right;\">\n",
       "      <th></th>\n",
       "      <th>Official Name of Satellite</th>\n",
       "      <th>Country/Organization of UN Registry</th>\n",
       "      <th>Operator/Owner</th>\n",
       "      <th>Country of Operator/Owner</th>\n",
       "      <th>Users</th>\n",
       "      <th>Purpose</th>\n",
       "      <th>Detailed Purpose</th>\n",
       "      <th>Class of Orbit</th>\n",
       "      <th>Type of Orbit</th>\n",
       "      <th>Longitude of Geosynchronous Orbit (Degrees)</th>\n",
       "      <th>...</th>\n",
       "      <th>Power (Watts)</th>\n",
       "      <th>Date of Launch</th>\n",
       "      <th>Expected Lifetime (Years)</th>\n",
       "      <th>Contractor</th>\n",
       "      <th>Country of Contractor</th>\n",
       "      <th>Launch Site</th>\n",
       "      <th>Launch Vehicle</th>\n",
       "      <th>COSPAR Number</th>\n",
       "      <th>NORAD Number</th>\n",
       "      <th>launched</th>\n",
       "    </tr>\n",
       "  </thead>\n",
       "  <tbody>\n",
       "    <tr>\n",
       "      <th>796</th>\n",
       "      <td>Long Excursion 1</td>\n",
       "      <td>NR</td>\n",
       "      <td>NaN</td>\n",
       "      <td>China</td>\n",
       "      <td>NaN</td>\n",
       "      <td>NaN</td>\n",
       "      <td>NaN</td>\n",
       "      <td>NaN</td>\n",
       "      <td>NaN</td>\n",
       "      <td>NaN</td>\n",
       "      <td>...</td>\n",
       "      <td>NaN</td>\n",
       "      <td>NaN</td>\n",
       "      <td>NaN</td>\n",
       "      <td>NaN</td>\n",
       "      <td>NaN</td>\n",
       "      <td>NaN</td>\n",
       "      <td>NaN</td>\n",
       "      <td>NaN</td>\n",
       "      <td>NaN</td>\n",
       "      <td>NaT</td>\n",
       "    </tr>\n",
       "    <tr>\n",
       "      <th>1187</th>\n",
       "      <td>SNaP-3 Eddie</td>\n",
       "      <td>NR</td>\n",
       "      <td>US Army Space and Missile Defense Command</td>\n",
       "      <td>USA</td>\n",
       "      <td>Military</td>\n",
       "      <td>Technology Development</td>\n",
       "      <td>NaN</td>\n",
       "      <td>LEO</td>\n",
       "      <td>Non-Polar Inclined</td>\n",
       "      <td>0.0</td>\n",
       "      <td>...</td>\n",
       "      <td>NaN</td>\n",
       "      <td>NaN</td>\n",
       "      <td>NaN</td>\n",
       "      <td>US Army Space and Missile Defense Command</td>\n",
       "      <td>USA</td>\n",
       "      <td>Cape Canaveral</td>\n",
       "      <td>Atlas 5</td>\n",
       "      <td>2015-058J</td>\n",
       "      <td>40972.0</td>\n",
       "      <td>NaT</td>\n",
       "    </tr>\n",
       "    <tr>\n",
       "      <th>1188</th>\n",
       "      <td>SNaP-3 Jimi</td>\n",
       "      <td>NR</td>\n",
       "      <td>US Army Space and Missile Defense Command</td>\n",
       "      <td>USA</td>\n",
       "      <td>Military</td>\n",
       "      <td>Technology Development</td>\n",
       "      <td>NaN</td>\n",
       "      <td>LEO</td>\n",
       "      <td>Non-Polar Inclined</td>\n",
       "      <td>0.0</td>\n",
       "      <td>...</td>\n",
       "      <td>NaN</td>\n",
       "      <td>NaN</td>\n",
       "      <td>NaN</td>\n",
       "      <td>US Army Space and Missile Defense Command</td>\n",
       "      <td>USA</td>\n",
       "      <td>Cape Canaveral</td>\n",
       "      <td>Atlas 5</td>\n",
       "      <td>2015-058M</td>\n",
       "      <td>40975.0</td>\n",
       "      <td>NaT</td>\n",
       "    </tr>\n",
       "    <tr>\n",
       "      <th>1240</th>\n",
       "      <td>TacSat 6</td>\n",
       "      <td>NR</td>\n",
       "      <td>Operational Responsive Space (ORS) Office</td>\n",
       "      <td>USA</td>\n",
       "      <td>Military</td>\n",
       "      <td>Technology Development</td>\n",
       "      <td>NaN</td>\n",
       "      <td>LEO</td>\n",
       "      <td>Polar</td>\n",
       "      <td>0.0</td>\n",
       "      <td>...</td>\n",
       "      <td>NaN</td>\n",
       "      <td>NaN</td>\n",
       "      <td>NaN</td>\n",
       "      <td>Air Force Research Laboratory (AFRL)</td>\n",
       "      <td>USA</td>\n",
       "      <td>Vandenberg AFB</td>\n",
       "      <td>Atlas 5</td>\n",
       "      <td>2013-072M</td>\n",
       "      <td>39473.0</td>\n",
       "      <td>NaT</td>\n",
       "    </tr>\n",
       "  </tbody>\n",
       "</table>\n",
       "<p>4 rows × 27 columns</p>\n",
       "</div>"
      ],
      "text/plain": [
       "     Official Name of Satellite Country/Organization of UN Registry  \\\n",
       "796            Long Excursion 1                                  NR   \n",
       "1187               SNaP-3 Eddie                                  NR   \n",
       "1188                SNaP-3 Jimi                                  NR   \n",
       "1240                   TacSat 6                                  NR   \n",
       "\n",
       "                                 Operator/Owner Country of Operator/Owner  \\\n",
       "796                                         NaN                     China   \n",
       "1187  US Army Space and Missile Defense Command                       USA   \n",
       "1188  US Army Space and Missile Defense Command                       USA   \n",
       "1240  Operational Responsive Space (ORS) Office                       USA   \n",
       "\n",
       "         Users                 Purpose Detailed Purpose Class of Orbit  \\\n",
       "796        NaN                     NaN              NaN            NaN   \n",
       "1187  Military  Technology Development              NaN            LEO   \n",
       "1188  Military  Technology Development              NaN            LEO   \n",
       "1240  Military  Technology Development              NaN            LEO   \n",
       "\n",
       "           Type of Orbit  Longitude of Geosynchronous Orbit (Degrees)  ...  \\\n",
       "796                  NaN                                          NaN  ...   \n",
       "1187  Non-Polar Inclined                                          0.0  ...   \n",
       "1188  Non-Polar Inclined                                          0.0  ...   \n",
       "1240               Polar                                          0.0  ...   \n",
       "\n",
       "      Power (Watts)  Date of Launch  Expected Lifetime (Years)  \\\n",
       "796             NaN             NaN                        NaN   \n",
       "1187            NaN             NaN                        NaN   \n",
       "1188            NaN             NaN                        NaN   \n",
       "1240            NaN             NaN                        NaN   \n",
       "\n",
       "                                     Contractor Country of Contractor  \\\n",
       "796                                         NaN                   NaN   \n",
       "1187  US Army Space and Missile Defense Command                   USA   \n",
       "1188  US Army Space and Missile Defense Command                   USA   \n",
       "1240       Air Force Research Laboratory (AFRL)                   USA   \n",
       "\n",
       "         Launch Site Launch Vehicle COSPAR Number NORAD Number launched  \n",
       "796              NaN            NaN           NaN          NaN      NaT  \n",
       "1187  Cape Canaveral        Atlas 5     2015-058J      40972.0      NaT  \n",
       "1188  Cape Canaveral        Atlas 5     2015-058M      40975.0      NaT  \n",
       "1240  Vandenberg AFB        Atlas 5     2013-072M      39473.0      NaT  \n",
       "\n",
       "[4 rows x 27 columns]"
      ]
     },
     "execution_count": 24,
     "metadata": {},
     "output_type": "execute_result"
    }
   ],
   "source": [
    "df[df['launched'].isnull()]"
   ]
  },
  {
   "cell_type": "markdown",
   "metadata": {},
   "source": [
    "\n",
    "#### Drop the rows with missing data. Recompute the 'launched' column and observe that it's now integer"
   ]
  },
  {
   "cell_type": "code",
   "execution_count": 27,
   "metadata": {},
   "outputs": [],
   "source": [
    "df.dropna(subset=['launched'], inplace=True)"
   ]
  },
  {
   "cell_type": "code",
   "execution_count": 28,
   "metadata": {},
   "outputs": [
    {
     "data": {
      "text/plain": [
       "np.int64(0)"
      ]
     },
     "execution_count": 28,
     "metadata": {},
     "output_type": "execute_result"
    }
   ],
   "source": [
    "df.launched.isnull().sum()"
   ]
  },
  {
   "cell_type": "markdown",
   "metadata": {},
   "source": [
    "#### Plot a histogram of the launch date"
   ]
  },
  {
   "cell_type": "code",
   "execution_count": 43,
   "metadata": {},
   "outputs": [
    {
     "data": {
      "text/plain": [
       "<Axes: >"
      ]
     },
     "execution_count": 43,
     "metadata": {},
     "output_type": "execute_result"
    },
    {
     "data": {
      "image/png": "[encoded data removed]",
      "text/plain": [
       "<Figure size 640x480 with 1 Axes>"
      ]
     },
     "metadata": {},
     "output_type": "display_data"
    }
   ],
   "source": [
    "df['launched'].hist(bins=30)"
   ]
  },
  {
   "cell_type": "code",
   "execution_count": 37,
   "metadata": {},
   "outputs": [],
   "source": [
    "df_launch_count =df['launched'].dt.year.value_counts()"
   ]
  },
  {
   "cell_type": "code",
   "execution_count": 40,
   "metadata": {},
   "outputs": [
    {
     "data": {
      "text/plain": [
       "(31,)"
      ]
     },
     "execution_count": 40,
     "metadata": {},
     "output_type": "execute_result"
    }
   ],
   "source": [
    "df_launch_count.shape"
   ]
  },
  {
   "cell_type": "code",
   "execution_count": null,
   "metadata": {},
   "outputs": [
    {
     "data": {
      "text/plain": [
       "(array([1970., 1980., 1990., 2000., 2010., 2020.]),\n",
       " [Text(1970.0, 0, '1970'),\n",
       "  Text(1980.0, 0, '1980'),\n",
       "  Text(1990.0, 0, '1990'),\n",
       "  Text(2000.0, 0, '2000'),\n",
       "  Text(2010.0, 0, '2010'),\n",
       "  Text(2020.0, 0, '2020')])"
      ]
     },
     "execution_count": 44,
     "metadata": {},
     "output_type": "execute_result"
    },
    {
     "data": {
      "image/png": "[encoded data removed]",
      "text/plain": [
       "<Figure size 640x480 with 1 Axes>"
      ]
     },
     "metadata": {},
     "output_type": "display_data"
    }
   ],
   "source": [
    "plt.bar(df_launch_count.index, df_launch_count)\n",
    "plt.xlabel('Year')\n",
    "plt.ylabel('Number of Satellites')\n"
   ]
  },
  {
   "cell_type": "markdown",
   "metadata": {},
   "source": [
    "\n",
    "#### The histogram above is nice, but it places bin boundaries in some weird places. Let's compute the number of launches each year and then plot it (as either a bar or scatter plot - try both)\n",
    " * Hints: use either value_counts() or groupby() to calculate the counts, see the example below:"
   ]
  },
  {
   "cell_type": "code",
   "execution_count": null,
   "metadata": {},
   "outputs": [],
   "source": []
  },
  {
   "cell_type": "markdown",
   "metadata": {},
   "source": [
    "## Example of using value_counts() + bar plot"
   ]
  },
  {
   "cell_type": "code",
   "execution_count": 9,
   "metadata": {},
   "outputs": [
    {
     "data": {
      "text/plain": [
       "USA              561\n",
       "China            180\n",
       "Russia           136\n",
       "Multinational     67\n",
       "Japan             57\n",
       "Name: Country of Operator/Owner, dtype: int64"
      ]
     },
     "execution_count": 9,
     "metadata": {},
     "output_type": "execute_result"
    }
   ],
   "source": [
    "country_count = df['Country of Operator/Owner'].value_counts()\n",
    "country_count.head()"
   ]
  },
  {
   "cell_type": "code",
   "execution_count": 14,
   "metadata": {},
   "outputs": [
    {
     "data": {
      "text/plain": [
       "<matplotlib.axes._subplots.AxesSubplot at 0x14eed6923c8>"
      ]
     },
     "execution_count": 14,
     "metadata": {},
     "output_type": "execute_result"
    },
    {
     "data": {
      "image/png": "[encoded data removed]",
      "text/plain": [
       "<Figure size 432x288 with 1 Axes>"
      ]
     },
     "metadata": {},
     "output_type": "display_data"
    }
   ],
   "source": [
    "country_count[country_count>10].plot(kind='bar')"
   ]
  },
  {
   "cell_type": "markdown",
   "metadata": {},
   "source": [
    "#### Plot a similar chart for launch vehicle"
   ]
  },
  {
   "cell_type": "code",
   "execution_count": null,
   "metadata": {},
   "outputs": [],
   "source": []
  },
  {
   "cell_type": "markdown",
   "metadata": {},
   "source": [
    "#### Now plot the same counts as pie chart (kind='pie'). Group all the small groups (e.g. below 10 satellites) into a single \"Other\" category"
   ]
  },
  {
   "cell_type": "code",
   "execution_count": 22,
   "metadata": {},
   "outputs": [],
   "source": [
    "lv_count = df[df.launched.dt.year>2010]['Launch Vehicle'].value_counts()"
   ]
  },
  {
   "cell_type": "markdown",
   "metadata": {},
   "source": [
    "#### Note that there are many versions of the same rocket, like Ariane 5 and Ariane 5 ECA - each creating a separate slice on the pie chart. This is why we have so many slices. Do the counts by Launch vehicle family, where family can be defined by the first word of the vehicle name. (remember the .str accessor for string functions) "
   ]
  },
  {
   "cell_type": "code",
   "execution_count": null,
   "metadata": {},
   "outputs": [],
   "source": []
  },
  {
   "cell_type": "markdown",
   "metadata": {},
   "source": [
    "#### Make a bar plot for launch counts per day of week (day 0 is Monday). Make sure the labels on x axis are reasonably sorted. Looks like Wednesday and Thursday are far more popular days to launch a satellite."
   ]
  },
  {
   "cell_type": "code",
   "execution_count": null,
   "metadata": {},
   "outputs": [],
   "source": []
  },
  {
   "cell_type": "markdown",
   "metadata": {},
   "source": [
    "#### Let's look for seasonal variations. take a look at t.dayofyear. Make a histogram of the day of year (of the launch). Anything you can hypothesize about how the aerospace industry sets the deadlines?"
   ]
  },
  {
   "cell_type": "code",
   "execution_count": null,
   "metadata": {},
   "outputs": [],
   "source": []
  },
  {
   "cell_type": "markdown",
   "metadata": {},
   "source": [
    "## SpaceX market share"
   ]
  },
  {
   "cell_type": "markdown",
   "metadata": {},
   "source": [
    "#### Find how many satellites per year were launched by SpaceX (Their rocket names all start with \"Falcon\")"
   ]
  },
  {
   "cell_type": "code",
   "execution_count": null,
   "metadata": {},
   "outputs": [],
   "source": []
  },
  {
   "cell_type": "markdown",
   "metadata": {},
   "source": [
    "#### What percentage of total number of launches this represents (again, per year)"
   ]
  },
  {
   "cell_type": "code",
   "execution_count": null,
   "metadata": {},
   "outputs": [],
   "source": []
  },
  {
   "cell_type": "markdown",
   "metadata": {},
   "source": [
    "#### For 2015 compare this information to what you can find on the web. (Note that a single rocket often launches multiple satellites.)"
   ]
  },
  {
   "cell_type": "code",
   "execution_count": null,
   "metadata": {},
   "outputs": [],
   "source": []
  },
  {
   "cell_type": "markdown",
   "metadata": {},
   "source": [
    "## What are satellites used for"
   ]
  },
  {
   "cell_type": "markdown",
   "metadata": {},
   "source": [
    "#### What percentage of all satellites have commercial use?\n",
    " * Note that the Users columns has dual use values like Government/Commercial"
   ]
  },
  {
   "cell_type": "code",
   "execution_count": null,
   "metadata": {},
   "outputs": [],
   "source": []
  },
  {
   "cell_type": "markdown",
   "metadata": {},
   "source": [
    "#### What percentage have more than one use? (e.g. Government/Commercial or Commercial/Gov/Mil etc.)"
   ]
  },
  {
   "cell_type": "code",
   "execution_count": null,
   "metadata": {},
   "outputs": [],
   "source": []
  },
  {
   "cell_type": "markdown",
   "metadata": {},
   "source": [
    "## Orbits"
   ]
  },
  {
   "cell_type": "markdown",
   "metadata": {},
   "source": [
    "#### Count how many satellites thre are per each Class of orbit. Note that 'LEO' appears twice, the scond time for a single row. Find out why and fix it.\n",
    " * LEO stands for Low Earth Orbit - this is where the ISS is\n",
    " * GEO is the Geostationary orbit - TV satellites"
   ]
  },
  {
   "cell_type": "code",
   "execution_count": null,
   "metadata": {},
   "outputs": [],
   "source": []
  },
  {
   "cell_type": "markdown",
   "metadata": {
    "slideshow": {
     "slide_type": "fragment"
    }
   },
   "source": [
    "#### How low the Low Earth Orbit is? Find the median of the apogee for satellites on LEO. Apogee is the highest point of the orbit (perigee is the lowest)."
   ]
  },
  {
   "cell_type": "code",
   "execution_count": null,
   "metadata": {},
   "outputs": [],
   "source": []
  },
  {
   "cell_type": "markdown",
   "metadata": {},
   "source": [
    "#### Plot a histogram of the apogee for all satellites on LEO "
   ]
  },
  {
   "cell_type": "code",
   "execution_count": null,
   "metadata": {},
   "outputs": [],
   "source": []
  },
  {
   "cell_type": "markdown",
   "metadata": {},
   "source": [
    "#### The histogram looks wrong, there is only one bar and the X axis goes all the way to above 300,000 km. Orbits above 2000 km are not usually called LEO. What's the problem? How can we fix it?"
   ]
  },
  {
   "cell_type": "code",
   "execution_count": null,
   "metadata": {},
   "outputs": [],
   "source": []
  },
  {
   "cell_type": "code",
   "execution_count": null,
   "metadata": {},
   "outputs": [],
   "source": []
  },
  {
   "cell_type": "markdown",
   "metadata": {},
   "source": [
    "#### Plot a histogram of the apogee for all satelites with apogee below 60,000 km. The two large peaks you see are the LEO and GEO orbits \n",
    " * Take a look at [this visualization of the different orbits on Wikipedia](https://upload.wikimedia.org/wikipedia/commons/b/b4/Comparison_satellite_navigation_orbits.svg)"
   ]
  },
  {
   "cell_type": "code",
   "execution_count": null,
   "metadata": {},
   "outputs": [],
   "source": []
  },
  {
   "cell_type": "markdown",
   "metadata": {},
   "source": [
    "#### Run a linear regression to predict the `Expected Lifetime (Years)` column from some of the other fetures\n",
    "Note, the Expected Lifetime column contains some irregular data like `\"14yrs\"` it has to be converted to numbers"
   ]
  },
  {
   "cell_type": "code",
   "execution_count": null,
   "metadata": {},
   "outputs": [],
   "source": []
  },
  {
   "cell_type": "code",
   "execution_count": null,
   "metadata": {},
   "outputs": [],
   "source": []
  }
 ],
 "metadata": {
  "kernelspec": {
   "display_name": ".pydata",
   "language": "python",
   "name": "python3"
  },
  "language_info": {
   "codemirror_mode": {
    "name": "ipython",
    "version": 3
   },
   "file_extension": ".py",
   "mimetype": "text/x-python",
   "name": "python",
   "nbconvert_exporter": "python",
   "pygments_lexer": "ipython3",
   "version": "3.11.4"
  }
 },
 "nbformat": 4,
 "nbformat_minor": 2
}
