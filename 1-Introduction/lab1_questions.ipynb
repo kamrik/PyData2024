{
 "cells": [
  {
   "cell_type": "markdown",
   "metadata": {},
   "source": [
    "### 1. String formatting\n",
    "You have a few Python variables that describe your age, name, and favorite food:\n",
    "```\n",
    "name = \"Leonardo\"\n",
    "age = 27\n",
    "favourite_food = \"Pizza\"\n",
    "```\n",
    "Using these variables, create the following string to introduce yourself:\n",
    "```\n",
    "\"Hi! My name is Leonardo. I am 27 years old, and my favorite food is Pizza.\"\n",
    "```"
   ]
  },
  {
   "cell_type": "code",
   "execution_count": null,
   "metadata": {},
   "outputs": [],
   "source": [
    "name = \"Leonardo\"\n",
    "age = 27\n",
    "favourite_food = \"Pizza\""
   ]
  },
  {
   "cell_type": "code",
   "execution_count": null,
   "metadata": {},
   "outputs": [],
   "source": [
    "# your code here\n",
    "print(...)"
   ]
  },
  {
   "cell_type": "markdown",
   "metadata": {},
   "source": [
    "### 2. Letter case or logic case?\n",
    "Write a functiond which accepts a string as input to print \"Yes\" if the string is \"yes\" or \"YES\" or \"Yes\", otherwise print \"No\".\n",
    "\n",
    "Examples:\n",
    "```\n",
    "say_yes_maybe(\"yes\") -> \"Yes\"\n",
    "say_yes_maybe(\"YeS\") -> \"No\"\n",
    "say_yes_maybe(\"maybe\") - > \"No\"\n",
    "\n",
    "```"
   ]
  },
  {
   "cell_type": "code",
   "execution_count": 4,
   "metadata": {},
   "outputs": [],
   "source": [
    "def say_yes_maybe(s):\n",
    "    ..."
   ]
  },
  {
   "cell_type": "code",
   "execution_count": null,
   "metadata": {},
   "outputs": [],
   "source": [
    "# tests\n",
    "assert say_yes_maybe(\"yes\") == \"Yes\"\n",
    "assert say_yes_maybe(\"YES\") == \"Yes\"\n",
    "assert say_yes_maybe(\"Yes\") == \"Yes\"\n",
    "assert say_yes_maybe(\"no\") == \"No\"\n",
    "assert say_yes_maybe(\"YeS\") == \"No\""
   ]
  },
  {
   "cell_type": "markdown",
   "metadata": {},
   "source": [
    "### 3. Filter Positive Numbers\n",
    "\n",
    "Given a list of integers, write a Python script to create a new list that only contains the positive numbers from the original list.\n",
    "\n",
    "Example:\n",
    "```\n",
    "Input: [1, -2, 3, -4, 5, -6, 7, -8, 9, -10]\n",
    "Output: [1, 3, 5, 7, 9]\n",
    "```"
   ]
  },
  {
   "cell_type": "code",
   "execution_count": null,
   "metadata": {},
   "outputs": [],
   "source": [
    "#you code here\n",
    "def filter_pos_num(lst):\n",
    "    ..."
   ]
  },
  {
   "cell_type": "code",
   "execution_count": null,
   "metadata": {},
   "outputs": [],
   "source": [
    "#tests\n",
    "assert filter_pos_num([1, 2, 3, 4, 5]) == [1, 2, 3, 4, 5]\n",
    "assert filter_pos_num([-1, -2, -3, -4, -5]) == []\n",
    "assert filter_pos_num([1, 2, 3, -4, -5]) == [1, 2, 3]"
   ]
  },
  {
   "cell_type": "markdown",
   "metadata": {},
   "source": [
    "### 4. Sums of positives and negatives\n",
    "Given a list of numbers, print separately the sum of all positive numbers in the list and the sum of all negative numbers in the list. \n",
    "\n",
    "Example:\n",
    "```\n",
    "lst = [1,-2,3,5,-8]\n",
    "9 # is the sum of 1 + 3 + 5\n",
    "-10 # is the sum of -2 + -8\n",
    "```"
   ]
  },
  {
   "cell_type": "code",
   "execution_count": null,
   "metadata": {},
   "outputs": [],
   "source": [
    "#your code here"
   ]
  },
  {
   "cell_type": "markdown",
   "metadata": {},
   "source": [
    "### 5. Count Vowels and Consonants\n",
    "\n",
    "Write a Python script that takes a string input and counts the number of vowels and consonants in the string. Start with this string `\"Python Programming is Fun!\"`.\n",
    "\n",
    "Hint: \n",
    "- use input_string.lower() to convert the string to lowercase\n",
    "- for a given char use `char.isalpha()` to check if it is a letter\n",
    "- check if char is in `['a', 'e', 'i', 'o', 'u']` to check if it is a vowel."
   ]
  },
  {
   "cell_type": "code",
   "execution_count": null,
   "metadata": {},
   "outputs": [],
   "source": [
    "VOWELS = [\"a\", \"e\", \"i\", \"o\", \"u\"]"
   ]
  },
  {
   "cell_type": "code",
   "execution_count": null,
   "metadata": {},
   "outputs": [],
   "source": [
    "#your code here"
   ]
  },
  {
   "cell_type": "markdown",
   "metadata": {},
   "source": [
    "### 6. Super vowels\n",
    "Implement `super_vowels` function which takes a string as an argument and returns a modified version of that string. In the return value of `super_vowels`, all vowels should be in upper case whereas all consonants should be in lower case. The vowels are listed in the `VOWELS` variable."
   ]
  },
  {
   "cell_type": "code",
   "execution_count": null,
   "metadata": {},
   "outputs": [],
   "source": [
    "VOWELS = [\"a\", \"e\", \"i\", \"o\", \"u\"]"
   ]
  },
  {
   "cell_type": "code",
   "execution_count": 1,
   "metadata": {},
   "outputs": [],
   "source": [
    "# Your implementation here\n",
    "def super_vowels(s):\n",
    "    ..."
   ]
  },
  {
   "cell_type": "code",
   "execution_count": null,
   "metadata": {},
   "outputs": [],
   "source": [
    "# tests\n",
    "assert super_vowels(\"hi wassup!\") == \"hI wAssUp!\"\n",
    "assert super_vowels(\"HOw aRE You?\") == \"hOw ArE yOU?\""
   ]
  },
  {
   "cell_type": "markdown",
   "metadata": {},
   "source": [
    "### 7. Salad weight\n",
    "You are given a recipe for a salad as a dictionary. The keys are the ingredient names and the values are the amounts given in grams. Calculate the total weight of the salad."
   ]
  },
  {
   "cell_type": "code",
   "execution_count": 3,
   "metadata": {},
   "outputs": [],
   "source": [
    "salad = {\n",
    "    \"cucumbers\": 100,\n",
    "    \"tomatoes\": 200,\n",
    "    \"radishes\": 50,\n",
    "    \"sour cream\": 200,\n",
    "}"
   ]
  },
  {
   "cell_type": "code",
   "execution_count": 2,
   "metadata": {},
   "outputs": [],
   "source": [
    "#you code here"
   ]
  },
  {
   "cell_type": "markdown",
   "metadata": {},
   "source": [
    "### 8. String formatting with numbers - advanced\n",
    "You can use the following code to print the value of Pi\n",
    "```\n",
    "import math\n",
    "x = math.pi\n",
    "print(x)\n",
    "```\n",
    "The output is: 3.141592653589793\n",
    "\n",
    "Write a function `short_pi()` that returns a string with only n digits of pi after the period\n",
    "Examples:\n",
    "```\n",
    "short_pi(2) -> \"3.14\"\n",
    "short_pi(5) -> \"3.14159\" \n",
    "```"
   ]
  },
  {
   "cell_type": "code",
   "execution_count": 5,
   "metadata": {},
   "outputs": [
    {
     "name": "stdout",
     "output_type": "stream",
     "text": [
      "3.141592653589793\n"
     ]
    }
   ],
   "source": [
    "# example\n",
    "import math\n",
    "x = math.pi\n",
    "print(x)"
   ]
  },
  {
   "cell_type": "code",
   "execution_count": 6,
   "metadata": {},
   "outputs": [],
   "source": [
    "def short_pi(n):\n",
    "    ..."
   ]
  },
  {
   "cell_type": "code",
   "execution_count": 7,
   "metadata": {},
   "outputs": [
    {
     "ename": "AssertionError",
     "evalue": "",
     "output_type": "error",
     "traceback": [
      "\u001b[1;31m---------------------------------------------------------------------------\u001b[0m",
      "\u001b[1;31mAssertionError\u001b[0m                            Traceback (most recent call last)",
      "Cell \u001b[1;32mIn[7], line 2\u001b[0m\n\u001b[0;32m      1\u001b[0m \u001b[38;5;66;03m# tests\u001b[39;00m\n\u001b[1;32m----> 2\u001b[0m \u001b[38;5;28;01massert\u001b[39;00m short_pi(\u001b[38;5;241m2\u001b[39m) \u001b[38;5;241m==\u001b[39m \u001b[38;5;124m\"\u001b[39m\u001b[38;5;124m3.14\u001b[39m\u001b[38;5;124m\"\u001b[39m\n\u001b[0;32m      3\u001b[0m \u001b[38;5;28;01massert\u001b[39;00m short_pi(\u001b[38;5;241m5\u001b[39m) \u001b[38;5;241m==\u001b[39m \u001b[38;5;124m\"\u001b[39m\u001b[38;5;124m3.14159\u001b[39m\u001b[38;5;124m\"\u001b[39m\n",
      "\u001b[1;31mAssertionError\u001b[0m: "
     ]
    }
   ],
   "source": [
    "# tests\n",
    "assert short_pi(2) == \"3.14\"\n",
    "assert short_pi(5) == \"3.14159\""
   ]
  },
  {
   "cell_type": "markdown",
   "metadata": {},
   "source": [
    "### 9. Reverse a string - two pointer approach\n",
    "Write a function that reverses a string. The input string is given as an array of characters s.\n",
    "\n",
    "You must do this by modifying the input array in-place with O(1) extra memory.\n",
    "\n",
    " \n",
    "Example 1:\n",
    "```\n",
    "Input: s = [\"h\",\"e\",\"l\",\"l\",\"o\"]\n",
    "Output: [\"o\",\"l\",\"l\",\"e\",\"h\"]\n",
    "```\n",
    "\n",
    "Example 2:\n",
    "```\n",
    "Input: s = [\"H\",\"a\",\"n\",\"n\",\"a\",\"h\"]\n",
    "Output: [\"h\",\"a\",\"n\",\"n\",\"a\",\"H\"]\n",
    "```"
   ]
  },
  {
   "cell_type": "code",
   "execution_count": null,
   "metadata": {},
   "outputs": [],
   "source": []
  }
 ],
 "metadata": {
  "kernelspec": {
   "display_name": ".pydata",
   "language": "python",
   "name": "python3"
  },
  "language_info": {
   "codemirror_mode": {
    "name": "ipython",
    "version": 3
   },
   "file_extension": ".py",
   "mimetype": "text/x-python",
   "name": "python",
   "nbconvert_exporter": "python",
   "pygments_lexer": "ipython3",
   "version": "3.11.4"
  }
 },
 "nbformat": 4,
 "nbformat_minor": 2
}
